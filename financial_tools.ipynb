{
 "cells": [
  {
   "cell_type": "code",
   "execution_count": 2,
   "id": "7b109d79",
   "metadata": {},
   "outputs": [
    {
     "name": "stdout",
     "output_type": "stream",
     "text": [
      "Defaulting to user installation because normal site-packages is not writeable\n",
      "Requirement already satisfied: numpy in d:\\anaconda3\\lib\\site-packages (1.21.5)\n"
     ]
    }
   ],
   "source": [
    "# ! pip install numpy"
   ]
  },
  {
   "cell_type": "code",
   "execution_count": 12,
   "id": "1b352b86",
   "metadata": {},
   "outputs": [],
   "source": [
    "import numpy as np"
   ]
  },
  {
   "cell_type": "code",
   "execution_count": 22,
   "id": "1befed0d",
   "metadata": {},
   "outputs": [],
   "source": [
    "_when_to_num = {'end':0, 'begin':1,\n",
    "                'e':0, 'b':1,\n",
    "                0:0, 1:1,\n",
    "                'beginning':1,\n",
    "                'start':1,\n",
    "                'finish':0}\n",
    "\n",
    "def _convert_when(when):\n",
    "    \"test if when has been converted to ndarray\"\n",
    "    \"this will happen if one function calls another, for example ppmt\"\n",
    "    if isinstance(when, np.ndarray):\n",
    "        return when\n",
    "    try:\n",
    "        return _when_to_num[when]\n",
    "    except (keyError, TypeError):\n",
    "        return [_when_to_num[x] for x in when]"
   ]
  },
  {
   "cell_type": "code",
   "execution_count": 23,
   "id": "8ccecbe0",
   "metadata": {},
   "outputs": [],
   "source": [
    "def fv(rate, nper, pmt, pv, when = 'end'):\n",
    "    \"\"\"Compute the future value\n",
    "       Parameters\n",
    "    ----------\n",
    "    rate : scalar or array_like of shape(M, )\n",
    "        Rate of interest as decimal (not per cent) per period\n",
    "    nper : scalar or array_like of shape(M, )\n",
    "        Number of compounding periods\n",
    "    pmt : scalar or array_like of shape(M, )\n",
    "        Payment\n",
    "    pv : scalar or array_like of shape(M, )\n",
    "        Present value\n",
    "    when : {{'begin', 1}, {'end', 0}}, {string, int}, optional\n",
    "        When payments are due ('begin' (1) or 'end' (0)).\n",
    "        Defaults to {'end', 0}.\"\"\"\n",
    "    when = _convert_when(when)\n",
    "    (rate, nper, pmt, pv, when) = map(np.asarray, [rate, nper, pmt, pv, when])\n",
    "    temp = (1+rate)**nper\n",
    "    fact = np.where(rate==0, nper, (1 + rate*when)*(temp-1)/rate)\n",
    "    return -(pv*temp + pmt*fact)"
   ]
  },
  {
   "cell_type": "code",
   "execution_count": 24,
   "id": "53efceb9",
   "metadata": {},
   "outputs": [
    {
     "data": {
      "text/plain": [
       "15692.928894335748"
      ]
     },
     "execution_count": 24,
     "metadata": {},
     "output_type": "execute_result"
    }
   ],
   "source": [
    "fv(0.05/12, 10*12, -100, -100)"
   ]
  },
  {
   "cell_type": "code",
   "execution_count": null,
   "id": "93620bf3",
   "metadata": {},
   "outputs": [],
   "source": []
  }
 ],
 "metadata": {
  "kernelspec": {
   "display_name": "Python 3",
   "language": "python",
   "name": "python3"
  },
  "language_info": {
   "codemirror_mode": {
    "name": "ipython",
    "version": 3
   },
   "file_extension": ".py",
   "mimetype": "text/x-python",
   "name": "python",
   "nbconvert_exporter": "python",
   "pygments_lexer": "ipython3",
   "version": "3.9.9 (tags/v3.9.9:ccb0e6a, Nov 15 2021, 18:08:50) [MSC v.1929 64 bit (AMD64)]"
  },
  "vscode": {
   "interpreter": {
    "hash": "53fa9cbc1119960e32d268058a2ef337c3bb0a143aba35634ced9d18c6ea0cfd"
   }
  }
 },
 "nbformat": 4,
 "nbformat_minor": 5
}
