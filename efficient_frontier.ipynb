{
 "cells": [
  {
   "cell_type": "code",
   "execution_count": 1,
   "id": "c0870e9e",
   "metadata": {},
   "outputs": [],
   "source": [
    "import datetime as dt\n",
    "import numpy as np\n",
    "import pandas as pd\n",
    "import warnings\n",
    "# please ignore the warnings\n",
    "warnings.filterwarnings('ignore')"
   ]
  },
  {
   "cell_type": "code",
   "execution_count": 2,
   "id": "3e1b2677",
   "metadata": {},
   "outputs": [],
   "source": [
    "tickers = ['ABH',\n",
    " 'RFP',\n",
    " 'ALLY',\n",
    " 'AAPL',\n",
    " 'SYF',\n",
    " 'MTBC',\n",
    " 'BABA',\n",
    " 'AGI',\n",
    " 'BYI',\n",
    " 'CI',\n",
    " 'MWD',\n",
    " 'MS',\n",
    " 'MSS',\n",
    " 'MLSS',\n",
    " 'ONNN',\n",
    " 'ON',\n",
    " 'SIMO',\n",
    " 'VNDA',\n",
    " 'GOOG',\n",
    " 'MSFT',\n",
    " 'TSLA',\n",
    " 'DIS',\n",
    " 'META']"
   ]
  },
  {
   "cell_type": "code",
   "execution_count": 3,
   "id": "6689087d",
   "metadata": {},
   "outputs": [],
   "source": [
    "# ! pip install yfinance"
   ]
  },
  {
   "cell_type": "code",
   "execution_count": 4,
   "id": "0af41f9d",
   "metadata": {},
   "outputs": [
    {
     "name": "stdout",
     "output_type": "stream",
     "text": [
      "[*********************100%***********************]  18 of 18 completed\n"
     ]
    }
   ],
   "source": [
    "from portfolio import build_portfolio\n",
    "\n",
    "names = [item for item in tickers if item not in ['ABH', 'BYI', 'MWD', 'MSS', 'ONNN']]\n",
    "start_date = '2018-01-01'\n",
    "end_date = '2022-11-04'\n",
    "pf = build_portfolio(names=names,\n",
    "                    start_date=start_date,\n",
    "                    end_date=end_date,\n",
    "                    data_api='yfinance')"
   ]
  },
  {
   "cell_type": "code",
   "execution_count": 5,
   "id": "26517a0c",
   "metadata": {},
   "outputs": [
    {
     "data": {
      "text/html": [
       "<div>\n",
       "<style scoped>\n",
       "    .dataframe tbody tr th:only-of-type {\n",
       "        vertical-align: middle;\n",
       "    }\n",
       "\n",
       "    .dataframe tbody tr th {\n",
       "        vertical-align: top;\n",
       "    }\n",
       "\n",
       "    .dataframe thead th {\n",
       "        text-align: right;\n",
       "    }\n",
       "</style>\n",
       "<table border=\"1\" class=\"dataframe\">\n",
       "  <thead>\n",
       "    <tr style=\"text-align: right;\">\n",
       "      <th></th>\n",
       "      <th>RFP</th>\n",
       "      <th>ALLY</th>\n",
       "      <th>AAPL</th>\n",
       "      <th>SYF</th>\n",
       "      <th>MTBC</th>\n",
       "      <th>BABA</th>\n",
       "      <th>AGI</th>\n",
       "      <th>CI</th>\n",
       "      <th>MS</th>\n",
       "      <th>MLSS</th>\n",
       "      <th>ON</th>\n",
       "      <th>SIMO</th>\n",
       "      <th>VNDA</th>\n",
       "      <th>GOOG</th>\n",
       "      <th>MSFT</th>\n",
       "      <th>TSLA</th>\n",
       "      <th>DIS</th>\n",
       "      <th>META</th>\n",
       "    </tr>\n",
       "    <tr>\n",
       "      <th>Date</th>\n",
       "      <th></th>\n",
       "      <th></th>\n",
       "      <th></th>\n",
       "      <th></th>\n",
       "      <th></th>\n",
       "      <th></th>\n",
       "      <th></th>\n",
       "      <th></th>\n",
       "      <th></th>\n",
       "      <th></th>\n",
       "      <th></th>\n",
       "      <th></th>\n",
       "      <th></th>\n",
       "      <th></th>\n",
       "      <th></th>\n",
       "      <th></th>\n",
       "      <th></th>\n",
       "      <th></th>\n",
       "    </tr>\n",
       "  </thead>\n",
       "  <tbody>\n",
       "    <tr>\n",
       "      <th>2018-01-02</th>\n",
       "      <td>9.086511</td>\n",
       "      <td>25.643799</td>\n",
       "      <td>40.888065</td>\n",
       "      <td>33.950119</td>\n",
       "      <td>2.6500</td>\n",
       "      <td>183.649994</td>\n",
       "      <td>6.375973</td>\n",
       "      <td>195.608154</td>\n",
       "      <td>45.083832</td>\n",
       "      <td>1.11</td>\n",
       "      <td>21.809999</td>\n",
       "      <td>48.341873</td>\n",
       "      <td>15.60</td>\n",
       "      <td>53.250000</td>\n",
       "      <td>80.738174</td>\n",
       "      <td>21.368668</td>\n",
       "      <td>108.726059</td>\n",
       "      <td>181.419998</td>\n",
       "    </tr>\n",
       "    <tr>\n",
       "      <th>2018-01-03</th>\n",
       "      <td>9.086511</td>\n",
       "      <td>25.521811</td>\n",
       "      <td>40.880943</td>\n",
       "      <td>34.177269</td>\n",
       "      <td>2.7100</td>\n",
       "      <td>184.000000</td>\n",
       "      <td>6.442986</td>\n",
       "      <td>198.891464</td>\n",
       "      <td>45.204762</td>\n",
       "      <td>1.19</td>\n",
       "      <td>22.780001</td>\n",
       "      <td>48.201832</td>\n",
       "      <td>15.60</td>\n",
       "      <td>54.124001</td>\n",
       "      <td>81.113899</td>\n",
       "      <td>21.150000</td>\n",
       "      <td>109.192848</td>\n",
       "      <td>184.669998</td>\n",
       "    </tr>\n",
       "    <tr>\n",
       "      <th>2018-01-04</th>\n",
       "      <td>9.006454</td>\n",
       "      <td>25.896486</td>\n",
       "      <td>41.070835</td>\n",
       "      <td>34.421894</td>\n",
       "      <td>2.7501</td>\n",
       "      <td>185.710007</td>\n",
       "      <td>6.471707</td>\n",
       "      <td>199.934387</td>\n",
       "      <td>45.895832</td>\n",
       "      <td>1.19</td>\n",
       "      <td>22.780001</td>\n",
       "      <td>48.166828</td>\n",
       "      <td>15.55</td>\n",
       "      <td>54.320000</td>\n",
       "      <td>81.827827</td>\n",
       "      <td>20.974667</td>\n",
       "      <td>109.144241</td>\n",
       "      <td>184.330002</td>\n",
       "    </tr>\n",
       "  </tbody>\n",
       "</table>\n",
       "</div>"
      ],
      "text/plain": [
       "                 RFP       ALLY       AAPL        SYF    MTBC        BABA  \\\n",
       "Date                                                                        \n",
       "2018-01-02  9.086511  25.643799  40.888065  33.950119  2.6500  183.649994   \n",
       "2018-01-03  9.086511  25.521811  40.880943  34.177269  2.7100  184.000000   \n",
       "2018-01-04  9.006454  25.896486  41.070835  34.421894  2.7501  185.710007   \n",
       "\n",
       "                 AGI          CI         MS  MLSS         ON       SIMO  \\\n",
       "Date                                                                      \n",
       "2018-01-02  6.375973  195.608154  45.083832  1.11  21.809999  48.341873   \n",
       "2018-01-03  6.442986  198.891464  45.204762  1.19  22.780001  48.201832   \n",
       "2018-01-04  6.471707  199.934387  45.895832  1.19  22.780001  48.166828   \n",
       "\n",
       "             VNDA       GOOG       MSFT       TSLA         DIS        META  \n",
       "Date                                                                        \n",
       "2018-01-02  15.60  53.250000  80.738174  21.368668  108.726059  181.419998  \n",
       "2018-01-03  15.60  54.124001  81.113899  21.150000  109.192848  184.669998  \n",
       "2018-01-04  15.55  54.320000  81.827827  20.974667  109.144241  184.330002  "
      ]
     },
     "execution_count": 5,
     "metadata": {},
     "output_type": "execute_result"
    }
   ],
   "source": [
    "pf.data.head(3)"
   ]
  },
  {
   "cell_type": "code",
   "execution_count": 6,
   "id": "1d36443e",
   "metadata": {},
   "outputs": [
    {
     "name": "stdout",
     "output_type": "stream",
     "text": [
      "----------------------------------------------------------------------\n",
      "Stocks: RFP, ALLY, AAPL, SYF, MTBC, BABA, AGI, CI, MS, MLSS, ON, SIMO, VNDA, GOOG, MSFT, TSLA, DIS, META\n",
      "Time window/frequency: 252\n",
      "Risk free rate: 0.04\n",
      "Portfolio Expected Return: 0.194\n",
      "Portfolio Volatility: 0.271\n",
      "Portfolio Sharpe Ratio: 0.567\n",
      "\n",
      "Skewness:\n",
      "       RFP      ALLY      AAPL       SYF      MTBC      BABA       AGI  \\\n",
      "0  0.66034  0.568453  0.218509  0.283938  0.810421  0.027392 -0.019465   \n",
      "\n",
      "         CI        MS      MLSS      ON      SIMO      VNDA      GOOG  \\\n",
      "0  0.768837  0.566508  1.071298  0.8885  0.771709  0.814206  0.630579   \n",
      "\n",
      "       MSFT      TSLA       DIS      META  \n",
      "0  0.220924  0.489043  0.635077  0.756065  \n",
      "\n",
      "Kurtosis:\n",
      "       RFP      ALLY      AAPL       SYF      MTBC      BABA       AGI  \\\n",
      "0 -0.04525 -0.790103 -1.540262 -0.135781 -0.509481 -0.251296 -0.803887   \n",
      "\n",
      "         CI        MS      MLSS        ON      SIMO      VNDA      GOOG  \\\n",
      "0  0.067814 -1.264494  1.333861 -0.601514 -0.610216  0.812307 -1.099285   \n",
      "\n",
      "       MSFT     TSLA       DIS      META  \n",
      "0 -1.303683 -1.30499 -0.753673 -0.530772  \n",
      "\n",
      "Information:\n",
      "    Allocation  Name\n",
      "0     0.055556   RFP\n",
      "1     0.055556  ALLY\n",
      "2     0.055556  AAPL\n",
      "3     0.055556   SYF\n",
      "4     0.055556  MTBC\n",
      "5     0.055556  BABA\n",
      "6     0.055556   AGI\n",
      "7     0.055556    CI\n",
      "8     0.055556    MS\n",
      "9     0.055556  MLSS\n",
      "10    0.055556    ON\n",
      "11    0.055556  SIMO\n",
      "12    0.055556  VNDA\n",
      "13    0.055556  GOOG\n",
      "14    0.055556  MSFT\n",
      "15    0.055556  TSLA\n",
      "16    0.055556   DIS\n",
      "17    0.055556  META\n",
      "----------------------------------------------------------------------\n"
     ]
    }
   ],
   "source": [
    "pf.properties()"
   ]
  },
  {
   "cell_type": "code",
   "execution_count": 7,
   "id": "33f15acf",
   "metadata": {},
   "outputs": [
    {
     "data": {
      "text/plain": [
       "<matplotlib.lines.Line2D at 0x2020579ab80>"
      ]
     },
     "execution_count": 7,
     "metadata": {},
     "output_type": "execute_result"
    },
    {
     "data": {
      "image/png": "[encoded data removed]",
      "text/plain": [
       "<Figure size 432x288 with 1 Axes>"
      ]
     },
     "metadata": {
      "needs_background": "light"
     },
     "output_type": "display_data"
    }
   ],
   "source": [
    "pf.comp_cumulative_returns().plot().axhline(y = 0, color = \"black\", lw = 3)"
   ]
  },
  {
   "cell_type": "code",
   "execution_count": 8,
   "id": "6fa5d04e",
   "metadata": {},
   "outputs": [
    {
     "data": {
      "text/plain": [
       "<matplotlib.lines.Line2D at 0x20206a50ac0>"
      ]
     },
     "execution_count": 8,
     "metadata": {},
     "output_type": "execute_result"
    },
    {
     "data": {
      "image/png": "[encoded data removed]",
      "text/plain": [
       "<Figure size 432x288 with 1 Axes>"
      ]
     },
     "metadata": {
      "needs_background": "light"
     },
     "output_type": "display_data"
    }
   ],
   "source": [
    "pf.comp_daily_returns().plot().axhline(y = 0, color = \"black\", lw = 3)"
   ]
  },
  {
   "cell_type": "code",
   "execution_count": 9,
   "id": "4876a028",
   "metadata": {},
   "outputs": [
    {
     "data": {
      "text/plain": [
       "Text(0.5, 1.0, 'Correlation Matrix')"
      ]
     },
     "execution_count": 9,
     "metadata": {},
     "output_type": "execute_result"
    },
    {
     "data": {
      "image/png": "[encoded data removed]",
      "text/plain": [
       "<Figure size 576x432 with 2 Axes>"
      ]
     },
     "metadata": {
      "needs_background": "light"
     },
     "output_type": "display_data"
    }
   ],
   "source": [
    "import matplotlib.pyplot as plt\n",
    "import matplotlib.image as mpimg\n",
    "\n",
    "f = plt.figure(figsize=(8, 6))\n",
    "df = pf.comp_daily_returns()\n",
    "plt.matshow(df.corr(), fignum=f.number)\n",
    "plt.xticks(range(df.select_dtypes(['number']).shape[1]), df.select_dtypes(['number']).columns, fontsize=9, rotation=45)\n",
    "plt.yticks(range(df.select_dtypes(['number']).shape[1]), df.select_dtypes(['number']).columns, fontsize=9)\n",
    "cb = plt.colorbar()\n",
    "cb.ax.tick_params(labelsize=10)\n",
    "plt.title('Correlation Matrix', fontsize=13)\n"
   ]
  },
  {
   "cell_type": "code",
   "execution_count": 10,
   "id": "54b110e5",
   "metadata": {},
   "outputs": [
    {
     "data": {
      "image/png": "[encoded data removed]",
      "text/plain": [
       "<Figure size 432x288 with 1 Axes>"
      ]
     },
     "metadata": {
      "needs_background": "light"
     },
     "output_type": "display_data"
    }
   ],
   "source": [
    "from moving_average import compute_ma, ema\n",
    "\n",
    "aapl = pf.get_stock(\"AAPL\").data.copy(deep=True)\n",
    "spans = [10, 20, 50, 100, 200]\n",
    "ma = compute_ma(aapl, ema, spans, plot=True)"
   ]
  },
  {
   "cell_type": "code",
   "execution_count": 11,
   "id": "3e50d9dd",
   "metadata": {},
   "outputs": [
    {
     "data": {
      "image/png": "[encoded data removed]",
      "text/plain": [
       "<Figure size 432x288 with 1 Axes>"
      ]
     },
     "metadata": {
      "needs_background": "light"
     },
     "output_type": "display_data"
    }
   ],
   "source": [
    "from moving_average import plot_bollinger_band, sma\n",
    "\n",
    "aapl = pf.get_stock(\"AAPL\").data.copy(deep=True)\n",
    "span = 20\n",
    "plot_bollinger_band(aapl, sma, span)"
   ]
  },
  {
   "cell_type": "code",
   "execution_count": 12,
   "id": "282fd2b8",
   "metadata": {},
   "outputs": [
    {
     "data": {
      "image/png": "[encoded data removed]",
      "text/plain": [
       "<Figure size 432x288 with 2 Axes>"
      ]
     },
     "metadata": {
      "needs_background": "light"
     },
     "output_type": "display_data"
    }
   ],
   "source": [
    "# performs and plots results of Monte Carlo run (200000 iterations)\n",
    "opt_w, opt_res = pf.mc_optimisation(num_trials=100000)\n",
    "# plots the results of the Monte Carlo optimisation\n",
    "pf.mc_plot_results()\n",
    "# plots the Efficient Frontier\n",
    "pf.ef_plot_efrontier()\n",
    "# plots optimal portfolios based on Efficient Frontier\n",
    "pf.ef.plot_optimal_portfolios()\n",
    "# plots individual plots of the portfolio\n",
    "pf.plot_stocks()"
   ]
  },
  {
   "cell_type": "code",
   "execution_count": 13,
   "id": "4b9159c5",
   "metadata": {},
   "outputs": [
    {
     "data": {
      "text/html": [
       "<div>\n",
       "<style scoped>\n",
       "    .dataframe tbody tr th:only-of-type {\n",
       "        vertical-align: middle;\n",
       "    }\n",
       "\n",
       "    .dataframe tbody tr th {\n",
       "        vertical-align: top;\n",
       "    }\n",
       "\n",
       "    .dataframe thead th {\n",
       "        text-align: right;\n",
       "    }\n",
       "</style>\n",
       "<table border=\"1\" class=\"dataframe\">\n",
       "  <thead>\n",
       "    <tr style=\"text-align: right;\">\n",
       "      <th></th>\n",
       "      <th>RFP</th>\n",
       "      <th>ALLY</th>\n",
       "      <th>AAPL</th>\n",
       "      <th>SYF</th>\n",
       "      <th>MTBC</th>\n",
       "      <th>BABA</th>\n",
       "      <th>AGI</th>\n",
       "      <th>CI</th>\n",
       "      <th>MS</th>\n",
       "      <th>MLSS</th>\n",
       "      <th>ON</th>\n",
       "      <th>SIMO</th>\n",
       "      <th>VNDA</th>\n",
       "      <th>GOOG</th>\n",
       "      <th>MSFT</th>\n",
       "      <th>TSLA</th>\n",
       "      <th>DIS</th>\n",
       "      <th>META</th>\n",
       "    </tr>\n",
       "  </thead>\n",
       "  <tbody>\n",
       "    <tr>\n",
       "      <th>Min Volatility</th>\n",
       "      <td>-0.00000</td>\n",
       "      <td>-0.0</td>\n",
       "      <td>-0.000000</td>\n",
       "      <td>-0.000000</td>\n",
       "      <td>0.060371</td>\n",
       "      <td>0.061247</td>\n",
       "      <td>0.161071</td>\n",
       "      <td>0.166332</td>\n",
       "      <td>0.075685</td>\n",
       "      <td>-0.0</td>\n",
       "      <td>-0.0</td>\n",
       "      <td>0.150416</td>\n",
       "      <td>-0.0</td>\n",
       "      <td>0.133264</td>\n",
       "      <td>-0.000000</td>\n",
       "      <td>-0.000000</td>\n",
       "      <td>0.191613</td>\n",
       "      <td>-0.0</td>\n",
       "    </tr>\n",
       "    <tr>\n",
       "      <th>Max Sharpe Ratio</th>\n",
       "      <td>0.08047</td>\n",
       "      <td>-0.0</td>\n",
       "      <td>0.305016</td>\n",
       "      <td>0.059436</td>\n",
       "      <td>-0.000000</td>\n",
       "      <td>-0.000000</td>\n",
       "      <td>-0.000000</td>\n",
       "      <td>-0.000000</td>\n",
       "      <td>-0.000000</td>\n",
       "      <td>-0.0</td>\n",
       "      <td>-0.0</td>\n",
       "      <td>0.006407</td>\n",
       "      <td>-0.0</td>\n",
       "      <td>-0.000000</td>\n",
       "      <td>0.095162</td>\n",
       "      <td>0.453509</td>\n",
       "      <td>-0.000000</td>\n",
       "      <td>-0.0</td>\n",
       "    </tr>\n",
       "  </tbody>\n",
       "</table>\n",
       "</div>"
      ],
      "text/plain": [
       "                      RFP  ALLY      AAPL       SYF      MTBC      BABA  \\\n",
       "Min Volatility   -0.00000  -0.0 -0.000000 -0.000000  0.060371  0.061247   \n",
       "Max Sharpe Ratio  0.08047  -0.0  0.305016  0.059436 -0.000000 -0.000000   \n",
       "\n",
       "                       AGI        CI        MS  MLSS   ON      SIMO  VNDA  \\\n",
       "Min Volatility    0.161071  0.166332  0.075685  -0.0 -0.0  0.150416  -0.0   \n",
       "Max Sharpe Ratio -0.000000 -0.000000 -0.000000  -0.0 -0.0  0.006407  -0.0   \n",
       "\n",
       "                      GOOG      MSFT      TSLA       DIS  META  \n",
       "Min Volatility    0.133264 -0.000000 -0.000000  0.191613  -0.0  \n",
       "Max Sharpe Ratio -0.000000  0.095162  0.453509 -0.000000  -0.0  "
      ]
     },
     "execution_count": 13,
     "metadata": {},
     "output_type": "execute_result"
    }
   ],
   "source": [
    "opt_w"
   ]
  },
  {
   "cell_type": "code",
   "execution_count": 14,
   "id": "62f93a1d",
   "metadata": {},
   "outputs": [],
   "source": [
    "opt_w = opt_w.transpose()"
   ]
  },
  {
   "cell_type": "code",
   "execution_count": 15,
   "id": "43598870",
   "metadata": {},
   "outputs": [],
   "source": [
    "# !python.exe -m pip install --upgrade pip\n",
    "# ! pip install plotly\n",
    "# ! pip install --upgrade nbformat"
   ]
  },
  {
   "cell_type": "code",
   "execution_count": 16,
   "id": "9079249b",
   "metadata": {},
   "outputs": [
    {
     "data": {
      "application/vnd.plotly.v1+json": {
       "config": {
        "plotlyServerURL": "https://plot.ly"
       },
       "data": [
        {
         "labels": [
          "RFP",
          "ALLY",
          "AAPL",
          "SYF",
          "MTBC",
          "BABA",
          "AGI",
          "CI",
          "MS",
          "MLSS",
          "ON",
          "SIMO",
          "VNDA",
          "GOOG",
          "MSFT",
          "TSLA",
          "DIS",
          "META"
         ],
         "type": "pie",
         "values": [
          0,
          0,
          0,
          0,
          0.060370705177355655,
          0.061247373764837874,
          0.16107131106339923,
          0.16633244001062533,
          0.07568488028194999,
          0,
          0,
          0.15041584523643586,
          0,
          0.13326431656274385,
          0,
          0,
          0.19161312790265228,
          0
         ]
        }
       ],
       "layout": {
        "template": {
         "data": {
          "bar": [
           {
            "error_x": {
             "color": "#2a3f5f"
            },
            "error_y": {
             "color": "#2a3f5f"
            },
            "marker": {
             "line": {
              "color": "#E5ECF6",
              "width": 0.5
             },
             "pattern": {
              "fillmode": "overlay",
              "size": 10,
              "solidity": 0.2
             }
            },
            "type": "bar"
           }
          ],
          "barpolar": [
           {
            "marker": {
             "line": {
              "color": "#E5ECF6",
              "width": 0.5
             },
             "pattern": {
              "fillmode": "overlay",
              "size": 10,
              "solidity": 0.2
             }
            },
            "type": "barpolar"
           }
          ],
          "carpet": [
           {
            "aaxis": {
             "endlinecolor": "#2a3f5f",
             "gridcolor": "white",
             "linecolor": "white",
             "minorgridcolor": "white",
             "startlinecolor": "#2a3f5f"
            },
            "baxis": {
             "endlinecolor": "#2a3f5f",
             "gridcolor": "white",
             "linecolor": "white",
             "minorgridcolor": "white",
             "startlinecolor": "#2a3f5f"
            },
            "type": "carpet"
           }
          ],
          "choropleth": [
           {
            "colorbar": {
             "outlinewidth": 0,
             "ticks": ""
            },
            "type": "choropleth"
           }
          ],
          "contour": [
           {
            "colorbar": {
             "outlinewidth": 0,
             "ticks": ""
            },
            "colorscale": [
             [
              0,
              "#0d0887"
             ],
             [
              0.1111111111111111,
              "#46039f"
             ],
             [
              0.2222222222222222,
              "#7201a8"
             ],
             [
              0.3333333333333333,
              "#9c179e"
             ],
             [
              0.4444444444444444,
              "#bd3786"
             ],
             [
              0.5555555555555556,
              "#d8576b"
             ],
             [
              0.6666666666666666,
              "#ed7953"
             ],
             [
              0.7777777777777778,
              "#fb9f3a"
             ],
             [
              0.8888888888888888,
              "#fdca26"
             ],
             [
              1,
              "#f0f921"
             ]
            ],
            "type": "contour"
           }
          ],
          "contourcarpet": [
           {
            "colorbar": {
             "outlinewidth": 0,
             "ticks": ""
            },
            "type": "contourcarpet"
           }
          ],
          "heatmap": [
           {
            "colorbar": {
             "outlinewidth": 0,
             "ticks": ""
            },
            "colorscale": [
             [
              0,
              "#0d0887"
             ],
             [
              0.1111111111111111,
              "#46039f"
             ],
             [
              0.2222222222222222,
              "#7201a8"
             ],
             [
              0.3333333333333333,
              "#9c179e"
             ],
             [
              0.4444444444444444,
              "#bd3786"
             ],
             [
              0.5555555555555556,
              "#d8576b"
             ],
             [
              0.6666666666666666,
              "#ed7953"
             ],
             [
              0.7777777777777778,
              "#fb9f3a"
             ],
             [
              0.8888888888888888,
              "#fdca26"
             ],
             [
              1,
              "#f0f921"
             ]
            ],
            "type": "heatmap"
           }
          ],
          "heatmapgl": [
           {
            "colorbar": {
             "outlinewidth": 0,
             "ticks": ""
            },
            "colorscale": [
             [
              0,
              "#0d0887"
             ],
             [
              0.1111111111111111,
              "#46039f"
             ],
             [
              0.2222222222222222,
              "#7201a8"
             ],
             [
              0.3333333333333333,
              "#9c179e"
             ],
             [
              0.4444444444444444,
              "#bd3786"
             ],
             [
              0.5555555555555556,
              "#d8576b"
             ],
             [
              0.6666666666666666,
              "#ed7953"
             ],
             [
              0.7777777777777778,
              "#fb9f3a"
             ],
             [
              0.8888888888888888,
              "#fdca26"
             ],
             [
              1,
              "#f0f921"
             ]
            ],
            "type": "heatmapgl"
           }
          ],
          "histogram": [
           {
            "marker": {
             "pattern": {
              "fillmode": "overlay",
              "size": 10,
              "solidity": 0.2
             }
            },
            "type": "histogram"
           }
          ],
          "histogram2d": [
           {
            "colorbar": {
             "outlinewidth": 0,
             "ticks": ""
            },
            "colorscale": [
             [
              0,
              "#0d0887"
             ],
             [
              0.1111111111111111,
              "#46039f"
             ],
             [
              0.2222222222222222,
              "#7201a8"
             ],
             [
              0.3333333333333333,
              "#9c179e"
             ],
             [
              0.4444444444444444,
              "#bd3786"
             ],
             [
              0.5555555555555556,
              "#d8576b"
             ],
             [
              0.6666666666666666,
              "#ed7953"
             ],
             [
              0.7777777777777778,
              "#fb9f3a"
             ],
             [
              0.8888888888888888,
              "#fdca26"
             ],
             [
              1,
              "#f0f921"
             ]
            ],
            "type": "histogram2d"
           }
          ],
          "histogram2dcontour": [
           {
            "colorbar": {
             "outlinewidth": 0,
             "ticks": ""
            },
            "colorscale": [
             [
              0,
              "#0d0887"
             ],
             [
              0.1111111111111111,
              "#46039f"
             ],
             [
              0.2222222222222222,
              "#7201a8"
             ],
             [
              0.3333333333333333,
              "#9c179e"
             ],
             [
              0.4444444444444444,
              "#bd3786"
             ],
             [
              0.5555555555555556,
              "#d8576b"
             ],
             [
              0.6666666666666666,
              "#ed7953"
             ],
             [
              0.7777777777777778,
              "#fb9f3a"
             ],
             [
              0.8888888888888888,
              "#fdca26"
             ],
             [
              1,
              "#f0f921"
             ]
            ],
            "type": "histogram2dcontour"
           }
          ],
          "mesh3d": [
           {
            "colorbar": {
             "outlinewidth": 0,
             "ticks": ""
            },
            "type": "mesh3d"
           }
          ],
          "parcoords": [
           {
            "line": {
             "colorbar": {
              "outlinewidth": 0,
              "ticks": ""
             }
            },
            "type": "parcoords"
           }
          ],
          "pie": [
           {
            "automargin": true,
            "type": "pie"
           }
          ],
          "scatter": [
           {
            "fillpattern": {
             "fillmode": "overlay",
             "size": 10,
             "solidity": 0.2
            },
            "type": "scatter"
           }
          ],
          "scatter3d": [
           {
            "line": {
             "colorbar": {
              "outlinewidth": 0,
              "ticks": ""
             }
            },
            "marker": {
             "colorbar": {
              "outlinewidth": 0,
              "ticks": ""
             }
            },
            "type": "scatter3d"
           }
          ],
          "scattercarpet": [
           {
            "marker": {
             "colorbar": {
              "outlinewidth": 0,
              "ticks": ""
             }
            },
            "type": "scattercarpet"
           }
          ],
          "scattergeo": [
           {
            "marker": {
             "colorbar": {
              "outlinewidth": 0,
              "ticks": ""
             }
            },
            "type": "scattergeo"
           }
          ],
          "scattergl": [
           {
            "marker": {
             "colorbar": {
              "outlinewidth": 0,
              "ticks": ""
             }
            },
            "type": "scattergl"
           }
          ],
          "scattermapbox": [
           {
            "marker": {
             "colorbar": {
              "outlinewidth": 0,
              "ticks": ""
             }
            },
            "type": "scattermapbox"
           }
          ],
          "scatterpolar": [
           {
            "marker": {
             "colorbar": {
              "outlinewidth": 0,
              "ticks": ""
             }
            },
            "type": "scatterpolar"
           }
          ],
          "scatterpolargl": [
           {
            "marker": {
             "colorbar": {
              "outlinewidth": 0,
              "ticks": ""
             }
            },
            "type": "scatterpolargl"
           }
          ],
          "scatterternary": [
           {
            "marker": {
             "colorbar": {
              "outlinewidth": 0,
              "ticks": ""
             }
            },
            "type": "scatterternary"
           }
          ],
          "surface": [
           {
            "colorbar": {
             "outlinewidth": 0,
             "ticks": ""
            },
            "colorscale": [
             [
              0,
              "#0d0887"
             ],
             [
              0.1111111111111111,
              "#46039f"
             ],
             [
              0.2222222222222222,
              "#7201a8"
             ],
             [
              0.3333333333333333,
              "#9c179e"
             ],
             [
              0.4444444444444444,
              "#bd3786"
             ],
             [
              0.5555555555555556,
              "#d8576b"
             ],
             [
              0.6666666666666666,
              "#ed7953"
             ],
             [
              0.7777777777777778,
              "#fb9f3a"
             ],
             [
              0.8888888888888888,
              "#fdca26"
             ],
             [
              1,
              "#f0f921"
             ]
            ],
            "type": "surface"
           }
          ],
          "table": [
           {
            "cells": {
             "fill": {
              "color": "#EBF0F8"
             },
             "line": {
              "color": "white"
             }
            },
            "header": {
             "fill": {
              "color": "#C8D4E3"
             },
             "line": {
              "color": "white"
             }
            },
            "type": "table"
           }
          ]
         },
         "layout": {
          "annotationdefaults": {
           "arrowcolor": "#2a3f5f",
           "arrowhead": 0,
           "arrowwidth": 1
          },
          "autotypenumbers": "strict",
          "coloraxis": {
           "colorbar": {
            "outlinewidth": 0,
            "ticks": ""
           }
          },
          "colorscale": {
           "diverging": [
            [
             0,
             "#8e0152"
            ],
            [
             0.1,
             "#c51b7d"
            ],
            [
             0.2,
             "#de77ae"
            ],
            [
             0.3,
             "#f1b6da"
            ],
            [
             0.4,
             "#fde0ef"
            ],
            [
             0.5,
             "#f7f7f7"
            ],
            [
             0.6,
             "#e6f5d0"
            ],
            [
             0.7,
             "#b8e186"
            ],
            [
             0.8,
             "#7fbc41"
            ],
            [
             0.9,
             "#4d9221"
            ],
            [
             1,
             "#276419"
            ]
           ],
           "sequential": [
            [
             0,
             "#0d0887"
            ],
            [
             0.1111111111111111,
             "#46039f"
            ],
            [
             0.2222222222222222,
             "#7201a8"
            ],
            [
             0.3333333333333333,
             "#9c179e"
            ],
            [
             0.4444444444444444,
             "#bd3786"
            ],
            [
             0.5555555555555556,
             "#d8576b"
            ],
            [
             0.6666666666666666,
             "#ed7953"
            ],
            [
             0.7777777777777778,
             "#fb9f3a"
            ],
            [
             0.8888888888888888,
             "#fdca26"
            ],
            [
             1,
             "#f0f921"
            ]
           ],
           "sequentialminus": [
            [
             0,
             "#0d0887"
            ],
            [
             0.1111111111111111,
             "#46039f"
            ],
            [
             0.2222222222222222,
             "#7201a8"
            ],
            [
             0.3333333333333333,
             "#9c179e"
            ],
            [
             0.4444444444444444,
             "#bd3786"
            ],
            [
             0.5555555555555556,
             "#d8576b"
            ],
            [
             0.6666666666666666,
             "#ed7953"
            ],
            [
             0.7777777777777778,
             "#fb9f3a"
            ],
            [
             0.8888888888888888,
             "#fdca26"
            ],
            [
             1,
             "#f0f921"
            ]
           ]
          },
          "colorway": [
           "#636efa",
           "#EF553B",
           "#00cc96",
           "#ab63fa",
           "#FFA15A",
           "#19d3f3",
           "#FF6692",
           "#B6E880",
           "#FF97FF",
           "#FECB52"
          ],
          "font": {
           "color": "#2a3f5f"
          },
          "geo": {
           "bgcolor": "white",
           "lakecolor": "white",
           "landcolor": "#E5ECF6",
           "showlakes": true,
           "showland": true,
           "subunitcolor": "white"
          },
          "hoverlabel": {
           "align": "left"
          },
          "hovermode": "closest",
          "mapbox": {
           "style": "light"
          },
          "paper_bgcolor": "white",
          "plot_bgcolor": "#E5ECF6",
          "polar": {
           "angularaxis": {
            "gridcolor": "white",
            "linecolor": "white",
            "ticks": ""
           },
           "bgcolor": "#E5ECF6",
           "radialaxis": {
            "gridcolor": "white",
            "linecolor": "white",
            "ticks": ""
           }
          },
          "scene": {
           "xaxis": {
            "backgroundcolor": "#E5ECF6",
            "gridcolor": "white",
            "gridwidth": 2,
            "linecolor": "white",
            "showbackground": true,
            "ticks": "",
            "zerolinecolor": "white"
           },
           "yaxis": {
            "backgroundcolor": "#E5ECF6",
            "gridcolor": "white",
            "gridwidth": 2,
            "linecolor": "white",
            "showbackground": true,
            "ticks": "",
            "zerolinecolor": "white"
           },
           "zaxis": {
            "backgroundcolor": "#E5ECF6",
            "gridcolor": "white",
            "gridwidth": 2,
            "linecolor": "white",
            "showbackground": true,
            "ticks": "",
            "zerolinecolor": "white"
           }
          },
          "shapedefaults": {
           "line": {
            "color": "#2a3f5f"
           }
          },
          "ternary": {
           "aaxis": {
            "gridcolor": "white",
            "linecolor": "white",
            "ticks": ""
           },
           "baxis": {
            "gridcolor": "white",
            "linecolor": "white",
            "ticks": ""
           },
           "bgcolor": "#E5ECF6",
           "caxis": {
            "gridcolor": "white",
            "linecolor": "white",
            "ticks": ""
           }
          },
          "title": {
           "x": 0.05
          },
          "xaxis": {
           "automargin": true,
           "gridcolor": "white",
           "linecolor": "white",
           "ticks": "",
           "title": {
            "standoff": 15
           },
           "zerolinecolor": "white",
           "zerolinewidth": 2
          },
          "yaxis": {
           "automargin": true,
           "gridcolor": "white",
           "linecolor": "white",
           "ticks": "",
           "title": {
            "standoff": 15
           },
           "zerolinecolor": "white",
           "zerolinewidth": 2
          }
         }
        },
        "title": {
         "text": "Minimized Volatility Portfolio Weights"
        }
       }
      }
     },
     "metadata": {},
     "output_type": "display_data"
    },
    {
     "name": "stdout",
     "output_type": "stream",
     "text": [
      "[-0.0, -0.0, -0.0, -0.0, 0.060370705177355655, 0.061247373764837874, 0.16107131106339923, 0.16633244001062533, 0.07568488028194999, -0.0, -0.0, 0.15041584523643586, -0.0, 0.13326431656274385, -0.0, -0.0, 0.19161312790265228, -0.0]\n"
     ]
    }
   ],
   "source": [
    "import matplotlib.pyplot as plt\n",
    "import pandas as pd\n",
    "import plotly.graph_objects as go  # Impoting our graphical and data extracting pakcages\n",
    "\n",
    "df = opt_w\n",
    "values = df['Min Volatility'].values.tolist()\n",
    "names = df.index.tolist()\n",
    "\n",
    "fig = go.Figure(data= [go.Pie(values = values, labels=names)])\n",
    "fig.update_layout(\n",
    "    title=\"Minimized Volatility Portfolio Weights\",\n",
    ")\n",
    "fig.show()\n",
    "print(values)"
   ]
  },
  {
   "cell_type": "code",
   "execution_count": 17,
   "id": "ac76a932",
   "metadata": {},
   "outputs": [
    {
     "data": {
      "application/vnd.plotly.v1+json": {
       "config": {
        "plotlyServerURL": "https://plot.ly"
       },
       "data": [
        {
         "labels": [
          "RFP",
          "ALLY",
          "AAPL",
          "SYF",
          "MTBC",
          "BABA",
          "AGI",
          "CI",
          "MS",
          "MLSS",
          "ON",
          "SIMO",
          "VNDA",
          "GOOG",
          "MSFT",
          "TSLA",
          "DIS",
          "META"
         ],
         "type": "pie",
         "values": [
          0.08047038016363128,
          0,
          0.30501613466936167,
          0.059435514178331865,
          0,
          0,
          0,
          0,
          0,
          0,
          0,
          0.006407088707476737,
          0,
          0,
          0.09516167363171134,
          0.4535092086494871,
          0,
          0
         ]
        }
       ],
       "layout": {
        "template": {
         "data": {
          "bar": [
           {
            "error_x": {
             "color": "#2a3f5f"
            },
            "error_y": {
             "color": "#2a3f5f"
            },
            "marker": {
             "line": {
              "color": "#E5ECF6",
              "width": 0.5
             },
             "pattern": {
              "fillmode": "overlay",
              "size": 10,
              "solidity": 0.2
             }
            },
            "type": "bar"
           }
          ],
          "barpolar": [
           {
            "marker": {
             "line": {
              "color": "#E5ECF6",
              "width": 0.5
             },
             "pattern": {
              "fillmode": "overlay",
              "size": 10,
              "solidity": 0.2
             }
            },
            "type": "barpolar"
           }
          ],
          "carpet": [
           {
            "aaxis": {
             "endlinecolor": "#2a3f5f",
             "gridcolor": "white",
             "linecolor": "white",
             "minorgridcolor": "white",
             "startlinecolor": "#2a3f5f"
            },
            "baxis": {
             "endlinecolor": "#2a3f5f",
             "gridcolor": "white",
             "linecolor": "white",
             "minorgridcolor": "white",
             "startlinecolor": "#2a3f5f"
            },
            "type": "carpet"
           }
          ],
          "choropleth": [
           {
            "colorbar": {
             "outlinewidth": 0,
             "ticks": ""
            },
            "type": "choropleth"
           }
          ],
          "contour": [
           {
            "colorbar": {
             "outlinewidth": 0,
             "ticks": ""
            },
            "colorscale": [
             [
              0,
              "#0d0887"
             ],
             [
              0.1111111111111111,
              "#46039f"
             ],
             [
              0.2222222222222222,
              "#7201a8"
             ],
             [
              0.3333333333333333,
              "#9c179e"
             ],
             [
              0.4444444444444444,
              "#bd3786"
             ],
             [
              0.5555555555555556,
              "#d8576b"
             ],
             [
              0.6666666666666666,
              "#ed7953"
             ],
             [
              0.7777777777777778,
              "#fb9f3a"
             ],
             [
              0.8888888888888888,
              "#fdca26"
             ],
             [
              1,
              "#f0f921"
             ]
            ],
            "type": "contour"
           }
          ],
          "contourcarpet": [
           {
            "colorbar": {
             "outlinewidth": 0,
             "ticks": ""
            },
            "type": "contourcarpet"
           }
          ],
          "heatmap": [
           {
            "colorbar": {
             "outlinewidth": 0,
             "ticks": ""
            },
            "colorscale": [
             [
              0,
              "#0d0887"
             ],
             [
              0.1111111111111111,
              "#46039f"
             ],
             [
              0.2222222222222222,
              "#7201a8"
             ],
             [
              0.3333333333333333,
              "#9c179e"
             ],
             [
              0.4444444444444444,
              "#bd3786"
             ],
             [
              0.5555555555555556,
              "#d8576b"
             ],
             [
              0.6666666666666666,
              "#ed7953"
             ],
             [
              0.7777777777777778,
              "#fb9f3a"
             ],
             [
              0.8888888888888888,
              "#fdca26"
             ],
             [
              1,
              "#f0f921"
             ]
            ],
            "type": "heatmap"
           }
          ],
          "heatmapgl": [
           {
            "colorbar": {
             "outlinewidth": 0,
             "ticks": ""
            },
            "colorscale": [
             [
              0,
              "#0d0887"
             ],
             [
              0.1111111111111111,
              "#46039f"
             ],
             [
              0.2222222222222222,
              "#7201a8"
             ],
             [
              0.3333333333333333,
              "#9c179e"
             ],
             [
              0.4444444444444444,
              "#bd3786"
             ],
             [
              0.5555555555555556,
              "#d8576b"
             ],
             [
              0.6666666666666666,
              "#ed7953"
             ],
             [
              0.7777777777777778,
              "#fb9f3a"
             ],
             [
              0.8888888888888888,
              "#fdca26"
             ],
             [
              1,
              "#f0f921"
             ]
            ],
            "type": "heatmapgl"
           }
          ],
          "histogram": [
           {
            "marker": {
             "pattern": {
              "fillmode": "overlay",
              "size": 10,
              "solidity": 0.2
             }
            },
            "type": "histogram"
           }
          ],
          "histogram2d": [
           {
            "colorbar": {
             "outlinewidth": 0,
             "ticks": ""
            },
            "colorscale": [
             [
              0,
              "#0d0887"
             ],
             [
              0.1111111111111111,
              "#46039f"
             ],
             [
              0.2222222222222222,
              "#7201a8"
             ],
             [
              0.3333333333333333,
              "#9c179e"
             ],
             [
              0.4444444444444444,
              "#bd3786"
             ],
             [
              0.5555555555555556,
              "#d8576b"
             ],
             [
              0.6666666666666666,
              "#ed7953"
             ],
             [
              0.7777777777777778,
              "#fb9f3a"
             ],
             [
              0.8888888888888888,
              "#fdca26"
             ],
             [
              1,
              "#f0f921"
             ]
            ],
            "type": "histogram2d"
           }
          ],
          "histogram2dcontour": [
           {
            "colorbar": {
             "outlinewidth": 0,
             "ticks": ""
            },
            "colorscale": [
             [
              0,
              "#0d0887"
             ],
             [
              0.1111111111111111,
              "#46039f"
             ],
             [
              0.2222222222222222,
              "#7201a8"
             ],
             [
              0.3333333333333333,
              "#9c179e"
             ],
             [
              0.4444444444444444,
              "#bd3786"
             ],
             [
              0.5555555555555556,
              "#d8576b"
             ],
             [
              0.6666666666666666,
              "#ed7953"
             ],
             [
              0.7777777777777778,
              "#fb9f3a"
             ],
             [
              0.8888888888888888,
              "#fdca26"
             ],
             [
              1,
              "#f0f921"
             ]
            ],
            "type": "histogram2dcontour"
           }
          ],
          "mesh3d": [
           {
            "colorbar": {
             "outlinewidth": 0,
             "ticks": ""
            },
            "type": "mesh3d"
           }
          ],
          "parcoords": [
           {
            "line": {
             "colorbar": {
              "outlinewidth": 0,
              "ticks": ""
             }
            },
            "type": "parcoords"
           }
          ],
          "pie": [
           {
            "automargin": true,
            "type": "pie"
           }
          ],
          "scatter": [
           {
            "fillpattern": {
             "fillmode": "overlay",
             "size": 10,
             "solidity": 0.2
            },
            "type": "scatter"
           }
          ],
          "scatter3d": [
           {
            "line": {
             "colorbar": {
              "outlinewidth": 0,
              "ticks": ""
             }
            },
            "marker": {
             "colorbar": {
              "outlinewidth": 0,
              "ticks": ""
             }
            },
            "type": "scatter3d"
           }
          ],
          "scattercarpet": [
           {
            "marker": {
             "colorbar": {
              "outlinewidth": 0,
              "ticks": ""
             }
            },
            "type": "scattercarpet"
           }
          ],
          "scattergeo": [
           {
            "marker": {
             "colorbar": {
              "outlinewidth": 0,
              "ticks": ""
             }
            },
            "type": "scattergeo"
           }
          ],
          "scattergl": [
           {
            "marker": {
             "colorbar": {
              "outlinewidth": 0,
              "ticks": ""
             }
            },
            "type": "scattergl"
           }
          ],
          "scattermapbox": [
           {
            "marker": {
             "colorbar": {
              "outlinewidth": 0,
              "ticks": ""
             }
            },
            "type": "scattermapbox"
           }
          ],
          "scatterpolar": [
           {
            "marker": {
             "colorbar": {
              "outlinewidth": 0,
              "ticks": ""
             }
            },
            "type": "scatterpolar"
           }
          ],
          "scatterpolargl": [
           {
            "marker": {
             "colorbar": {
              "outlinewidth": 0,
              "ticks": ""
             }
            },
            "type": "scatterpolargl"
           }
          ],
          "scatterternary": [
           {
            "marker": {
             "colorbar": {
              "outlinewidth": 0,
              "ticks": ""
             }
            },
            "type": "scatterternary"
           }
          ],
          "surface": [
           {
            "colorbar": {
             "outlinewidth": 0,
             "ticks": ""
            },
            "colorscale": [
             [
              0,
              "#0d0887"
             ],
             [
              0.1111111111111111,
              "#46039f"
             ],
             [
              0.2222222222222222,
              "#7201a8"
             ],
             [
              0.3333333333333333,
              "#9c179e"
             ],
             [
              0.4444444444444444,
              "#bd3786"
             ],
             [
              0.5555555555555556,
              "#d8576b"
             ],
             [
              0.6666666666666666,
              "#ed7953"
             ],
             [
              0.7777777777777778,
              "#fb9f3a"
             ],
             [
              0.8888888888888888,
              "#fdca26"
             ],
             [
              1,
              "#f0f921"
             ]
            ],
            "type": "surface"
           }
          ],
          "table": [
           {
            "cells": {
             "fill": {
              "color": "#EBF0F8"
             },
             "line": {
              "color": "white"
             }
            },
            "header": {
             "fill": {
              "color": "#C8D4E3"
             },
             "line": {
              "color": "white"
             }
            },
            "type": "table"
           }
          ]
         },
         "layout": {
          "annotationdefaults": {
           "arrowcolor": "#2a3f5f",
           "arrowhead": 0,
           "arrowwidth": 1
          },
          "autotypenumbers": "strict",
          "coloraxis": {
           "colorbar": {
            "outlinewidth": 0,
            "ticks": ""
           }
          },
          "colorscale": {
           "diverging": [
            [
             0,
             "#8e0152"
            ],
            [
             0.1,
             "#c51b7d"
            ],
            [
             0.2,
             "#de77ae"
            ],
            [
             0.3,
             "#f1b6da"
            ],
            [
             0.4,
             "#fde0ef"
            ],
            [
             0.5,
             "#f7f7f7"
            ],
            [
             0.6,
             "#e6f5d0"
            ],
            [
             0.7,
             "#b8e186"
            ],
            [
             0.8,
             "#7fbc41"
            ],
            [
             0.9,
             "#4d9221"
            ],
            [
             1,
             "#276419"
            ]
           ],
           "sequential": [
            [
             0,
             "#0d0887"
            ],
            [
             0.1111111111111111,
             "#46039f"
            ],
            [
             0.2222222222222222,
             "#7201a8"
            ],
            [
             0.3333333333333333,
             "#9c179e"
            ],
            [
             0.4444444444444444,
             "#bd3786"
            ],
            [
             0.5555555555555556,
             "#d8576b"
            ],
            [
             0.6666666666666666,
             "#ed7953"
            ],
            [
             0.7777777777777778,
             "#fb9f3a"
            ],
            [
             0.8888888888888888,
             "#fdca26"
            ],
            [
             1,
             "#f0f921"
            ]
           ],
           "sequentialminus": [
            [
             0,
             "#0d0887"
            ],
            [
             0.1111111111111111,
             "#46039f"
            ],
            [
             0.2222222222222222,
             "#7201a8"
            ],
            [
             0.3333333333333333,
             "#9c179e"
            ],
            [
             0.4444444444444444,
             "#bd3786"
            ],
            [
             0.5555555555555556,
             "#d8576b"
            ],
            [
             0.6666666666666666,
             "#ed7953"
            ],
            [
             0.7777777777777778,
             "#fb9f3a"
            ],
            [
             0.8888888888888888,
             "#fdca26"
            ],
            [
             1,
             "#f0f921"
            ]
           ]
          },
          "colorway": [
           "#636efa",
           "#EF553B",
           "#00cc96",
           "#ab63fa",
           "#FFA15A",
           "#19d3f3",
           "#FF6692",
           "#B6E880",
           "#FF97FF",
           "#FECB52"
          ],
          "font": {
           "color": "#2a3f5f"
          },
          "geo": {
           "bgcolor": "white",
           "lakecolor": "white",
           "landcolor": "#E5ECF6",
           "showlakes": true,
           "showland": true,
           "subunitcolor": "white"
          },
          "hoverlabel": {
           "align": "left"
          },
          "hovermode": "closest",
          "mapbox": {
           "style": "light"
          },
          "paper_bgcolor": "white",
          "plot_bgcolor": "#E5ECF6",
          "polar": {
           "angularaxis": {
            "gridcolor": "white",
            "linecolor": "white",
            "ticks": ""
           },
           "bgcolor": "#E5ECF6",
           "radialaxis": {
            "gridcolor": "white",
            "linecolor": "white",
            "ticks": ""
           }
          },
          "scene": {
           "xaxis": {
            "backgroundcolor": "#E5ECF6",
            "gridcolor": "white",
            "gridwidth": 2,
            "linecolor": "white",
            "showbackground": true,
            "ticks": "",
            "zerolinecolor": "white"
           },
           "yaxis": {
            "backgroundcolor": "#E5ECF6",
            "gridcolor": "white",
            "gridwidth": 2,
            "linecolor": "white",
            "showbackground": true,
            "ticks": "",
            "zerolinecolor": "white"
           },
           "zaxis": {
            "backgroundcolor": "#E5ECF6",
            "gridcolor": "white",
            "gridwidth": 2,
            "linecolor": "white",
            "showbackground": true,
            "ticks": "",
            "zerolinecolor": "white"
           }
          },
          "shapedefaults": {
           "line": {
            "color": "#2a3f5f"
           }
          },
          "ternary": {
           "aaxis": {
            "gridcolor": "white",
            "linecolor": "white",
            "ticks": ""
           },
           "baxis": {
            "gridcolor": "white",
            "linecolor": "white",
            "ticks": ""
           },
           "bgcolor": "#E5ECF6",
           "caxis": {
            "gridcolor": "white",
            "linecolor": "white",
            "ticks": ""
           }
          },
          "title": {
           "x": 0.05
          },
          "xaxis": {
           "automargin": true,
           "gridcolor": "white",
           "linecolor": "white",
           "ticks": "",
           "title": {
            "standoff": 15
           },
           "zerolinecolor": "white",
           "zerolinewidth": 2
          },
          "yaxis": {
           "automargin": true,
           "gridcolor": "white",
           "linecolor": "white",
           "ticks": "",
           "title": {
            "standoff": 15
           },
           "zerolinecolor": "white",
           "zerolinewidth": 2
          }
         }
        },
        "title": {
         "text": "Maximized Sharp Ratio Portfolio Weights"
        }
       }
      }
     },
     "metadata": {},
     "output_type": "display_data"
    },
    {
     "name": "stdout",
     "output_type": "stream",
     "text": [
      "[0.08047038016363128, -0.0, 0.30501613466936167, 0.059435514178331865, -0.0, -0.0, -0.0, -0.0, -0.0, -0.0, -0.0, 0.006407088707476737, -0.0, -0.0, 0.09516167363171134, 0.4535092086494871, -0.0, -0.0]\n"
     ]
    }
   ],
   "source": [
    "df = opt_w\n",
    "values = df['Max Sharpe Ratio'].values.tolist()\n",
    "names = df.index.tolist()\n",
    "\n",
    "fig = go.Figure(data= [go.Pie(values = values, labels=names)])\n",
    "fig.update_layout(\n",
    "    title=\"Maximized Sharp Ratio Portfolio Weights\",\n",
    ")\n",
    "fig.show()\n",
    "print(values)"
   ]
  },
  {
   "cell_type": "code",
   "execution_count": 18,
   "id": "36dce935",
   "metadata": {},
   "outputs": [
    {
     "name": "stdout",
     "output_type": "stream",
     "text": [
      "[*********************100%***********************]  17 of 17 completed\n"
     ]
    }
   ],
   "source": [
    "# back testing\n",
    "names = [item for item in tickers if item not in ['ABH', 'BYI', 'MWD', 'MSS', 'ONNN', 'MLSS']]\n",
    "start_date = '2022-11-05'\n",
    "end_date = '2023-02-28'\n",
    "bt = build_portfolio(names=names,\n",
    "                    start_date=start_date,\n",
    "                    end_date=end_date,\n",
    "                    data_api='yfinance')"
   ]
  },
  {
   "cell_type": "code",
   "execution_count": 19,
   "id": "e661e8df",
   "metadata": {},
   "outputs": [],
   "source": [
    "from quants import weighted_mean\n",
    "\n",
    "weights0 = np.ones(len(pf.stocks))/len(pf.stocks) \n",
    "weights = opt_w['Max Sharpe Ratio']\n",
    "weights1 = opt_w['Min Volatility']\n",
    "ret_df = bt.comp_cumulative_returns()\n",
    "ret_df['max_sharp'] = ret_df.iloc[:,0:len(pf.stocks)].apply(lambda x: weighted_mean(x, weights), axis=1)\n",
    "ret_df['min_vol'] = ret_df.iloc[:,0:len(pf.stocks)].apply(lambda x: weighted_mean(x, weights1), axis=1)\n",
    "ret_df['eq_wei'] = ret_df.iloc[:,0:len(pf.stocks)].apply(lambda x: weighted_mean(x, weights0), axis=1)"
   ]
  },
  {
   "cell_type": "code",
   "execution_count": 20,
   "id": "1388f25e",
   "metadata": {},
   "outputs": [
    {
     "name": "stdout",
     "output_type": "stream",
     "text": [
      "[*********************100%***********************]  1 of 1 completed\n"
     ]
    }
   ],
   "source": [
    "spy =  build_portfolio(names=['SPY'],\n",
    "                    start_date=start_date,\n",
    "                    end_date=end_date,\n",
    "                    data_api='yfinance')\n",
    "ret_df['SPY'] = spy.comp_cumulative_returns()"
   ]
  },
  {
   "cell_type": "code",
   "execution_count": 21,
   "id": "7b47c8b1",
   "metadata": {},
   "outputs": [
    {
     "data": {
      "text/plain": [
       "<matplotlib.lines.Line2D at 0x2020a6a6670>"
      ]
     },
     "execution_count": 21,
     "metadata": {},
     "output_type": "execute_result"
    },
    {
     "data": {
      "image/png": "[encoded data removed]",
      "text/plain": [
       "<Figure size 432x288 with 1 Axes>"
      ]
     },
     "metadata": {
      "needs_background": "light"
     },
     "output_type": "display_data"
    }
   ],
   "source": [
    "ret_df.loc[:,['max_sharp','min_vol','eq_wei','SPY']].plot().axhline(y = 0, color = \"black\", lw = 3)"
   ]
  },
  {
   "cell_type": "code",
   "execution_count": 22,
   "id": "29908161",
   "metadata": {},
   "outputs": [
    {
     "data": {
      "image/png": "[encoded data removed]",
      "text/plain": [
       "<Figure size 432x288 with 1 Axes>"
      ]
     },
     "metadata": {
      "needs_background": "light"
     },
     "output_type": "display_data"
    }
   ],
   "source": [
    "from moving_average import compute_ma, ema\n",
    "\n",
    "stock_ticker = ret_df['max_sharp'].to_frame().copy(deep=True)\n",
    "spans = [10, 20, 50, 100, 200]\n",
    "ma = compute_ma(stock_ticker, ema, spans, plot=True)"
   ]
  },
  {
   "cell_type": "code",
   "execution_count": 23,
   "metadata": {},
   "outputs": [
    {
     "data": {
      "text/html": [
       "<div>\n",
       "<style scoped>\n",
       "    .dataframe tbody tr th:only-of-type {\n",
       "        vertical-align: middle;\n",
       "    }\n",
       "\n",
       "    .dataframe tbody tr th {\n",
       "        vertical-align: top;\n",
       "    }\n",
       "\n",
       "    .dataframe thead th {\n",
       "        text-align: right;\n",
       "    }\n",
       "</style>\n",
       "<table border=\"1\" class=\"dataframe\">\n",
       "  <thead>\n",
       "    <tr style=\"text-align: right;\">\n",
       "      <th></th>\n",
       "      <th>RFP</th>\n",
       "      <th>ALLY</th>\n",
       "      <th>AAPL</th>\n",
       "      <th>SYF</th>\n",
       "      <th>MTBC</th>\n",
       "      <th>BABA</th>\n",
       "      <th>AGI</th>\n",
       "      <th>CI</th>\n",
       "      <th>MS</th>\n",
       "      <th>ON</th>\n",
       "      <th>...</th>\n",
       "      <th>VNDA</th>\n",
       "      <th>GOOG</th>\n",
       "      <th>MSFT</th>\n",
       "      <th>TSLA</th>\n",
       "      <th>DIS</th>\n",
       "      <th>META</th>\n",
       "      <th>max_sharp</th>\n",
       "      <th>min_vol</th>\n",
       "      <th>eq_wei</th>\n",
       "      <th>SPY</th>\n",
       "    </tr>\n",
       "    <tr>\n",
       "      <th>Date</th>\n",
       "      <th></th>\n",
       "      <th></th>\n",
       "      <th></th>\n",
       "      <th></th>\n",
       "      <th></th>\n",
       "      <th></th>\n",
       "      <th></th>\n",
       "      <th></th>\n",
       "      <th></th>\n",
       "      <th></th>\n",
       "      <th></th>\n",
       "      <th></th>\n",
       "      <th></th>\n",
       "      <th></th>\n",
       "      <th></th>\n",
       "      <th></th>\n",
       "      <th></th>\n",
       "      <th></th>\n",
       "      <th></th>\n",
       "      <th></th>\n",
       "      <th></th>\n",
       "    </tr>\n",
       "  </thead>\n",
       "  <tbody>\n",
       "    <tr>\n",
       "      <th>2022-11-07</th>\n",
       "      <td>0.000000</td>\n",
       "      <td>0.000000</td>\n",
       "      <td>0.000000</td>\n",
       "      <td>0.000000</td>\n",
       "      <td>0.000000</td>\n",
       "      <td>0.000000</td>\n",
       "      <td>0.000000</td>\n",
       "      <td>0.000000</td>\n",
       "      <td>0.000000</td>\n",
       "      <td>0.000000</td>\n",
       "      <td>...</td>\n",
       "      <td>0.000000</td>\n",
       "      <td>0.000000</td>\n",
       "      <td>0.000000</td>\n",
       "      <td>0.000000</td>\n",
       "      <td>0.000000</td>\n",
       "      <td>0.000000</td>\n",
       "      <td>0.000000</td>\n",
       "      <td>0.000000</td>\n",
       "      <td>0.000000</td>\n",
       "      <td>0.000000</td>\n",
       "    </tr>\n",
       "    <tr>\n",
       "      <th>2022-11-08</th>\n",
       "      <td>0.000000</td>\n",
       "      <td>-0.000775</td>\n",
       "      <td>0.004175</td>\n",
       "      <td>-0.003039</td>\n",
       "      <td>0.052117</td>\n",
       "      <td>-0.022665</td>\n",
       "      <td>0.058971</td>\n",
       "      <td>0.010389</td>\n",
       "      <td>-0.003389</td>\n",
       "      <td>0.024744</td>\n",
       "      <td>...</td>\n",
       "      <td>-0.018832</td>\n",
       "      <td>0.002933</td>\n",
       "      <td>0.004388</td>\n",
       "      <td>-0.029328</td>\n",
       "      <td>-0.005277</td>\n",
       "      <td>-0.002585</td>\n",
       "      <td>-0.011918</td>\n",
       "      <td>0.009108</td>\n",
       "      <td>0.002220</td>\n",
       "      <td>0.005395</td>\n",
       "    </tr>\n",
       "    <tr>\n",
       "      <th>2022-11-09</th>\n",
       "      <td>-0.001429</td>\n",
       "      <td>-0.037955</td>\n",
       "      <td>-0.029153</td>\n",
       "      <td>-0.032873</td>\n",
       "      <td>-0.009772</td>\n",
       "      <td>-0.069861</td>\n",
       "      <td>0.040151</td>\n",
       "      <td>0.001911</td>\n",
       "      <td>-0.024775</td>\n",
       "      <td>-0.025050</td>\n",
       "      <td>...</td>\n",
       "      <td>-0.018832</td>\n",
       "      <td>-0.014100</td>\n",
       "      <td>-0.014745</td>\n",
       "      <td>-0.098894</td>\n",
       "      <td>-0.136214</td>\n",
       "      <td>0.049111</td>\n",
       "      <td>-0.057544</td>\n",
       "      <td>-0.035702</td>\n",
       "      <td>-0.029536</td>\n",
       "      <td>-0.015318</td>\n",
       "    </tr>\n",
       "    <tr>\n",
       "      <th>2022-11-10</th>\n",
       "      <td>0.000952</td>\n",
       "      <td>0.110767</td>\n",
       "      <td>0.057227</td>\n",
       "      <td>0.069890</td>\n",
       "      <td>0.022801</td>\n",
       "      <td>0.000861</td>\n",
       "      <td>0.114178</td>\n",
       "      <td>-0.003175</td>\n",
       "      <td>0.037747</td>\n",
       "      <td>0.111807</td>\n",
       "      <td>...</td>\n",
       "      <td>0.018832</td>\n",
       "      <td>0.062267</td>\n",
       "      <td>0.066310</td>\n",
       "      <td>-0.032271</td>\n",
       "      <td>-0.099273</td>\n",
       "      <td>0.156638</td>\n",
       "      <td>0.013334</td>\n",
       "      <td>0.010795</td>\n",
       "      <td>0.039150</td>\n",
       "      <td>0.038795</td>\n",
       "    </tr>\n",
       "    <tr>\n",
       "      <th>2022-11-11</th>\n",
       "      <td>0.005238</td>\n",
       "      <td>0.142525</td>\n",
       "      <td>0.077599</td>\n",
       "      <td>0.111326</td>\n",
       "      <td>0.048860</td>\n",
       "      <td>0.015206</td>\n",
       "      <td>0.114178</td>\n",
       "      <td>-0.063354</td>\n",
       "      <td>0.060886</td>\n",
       "      <td>0.146327</td>\n",
       "      <td>...</td>\n",
       "      <td>0.007533</td>\n",
       "      <td>0.091145</td>\n",
       "      <td>0.084434</td>\n",
       "      <td>-0.005632</td>\n",
       "      <td>-0.053968</td>\n",
       "      <td>0.168528</td>\n",
       "      <td>0.036448</td>\n",
       "      <td>0.024248</td>\n",
       "      <td>0.057102</td>\n",
       "      <td>0.048849</td>\n",
       "    </tr>\n",
       "    <tr>\n",
       "      <th>...</th>\n",
       "      <td>...</td>\n",
       "      <td>...</td>\n",
       "      <td>...</td>\n",
       "      <td>...</td>\n",
       "      <td>...</td>\n",
       "      <td>...</td>\n",
       "      <td>...</td>\n",
       "      <td>...</td>\n",
       "      <td>...</td>\n",
       "      <td>...</td>\n",
       "      <td>...</td>\n",
       "      <td>...</td>\n",
       "      <td>...</td>\n",
       "      <td>...</td>\n",
       "      <td>...</td>\n",
       "      <td>...</td>\n",
       "      <td>...</td>\n",
       "      <td>...</td>\n",
       "      <td>...</td>\n",
       "      <td>...</td>\n",
       "      <td>...</td>\n",
       "    </tr>\n",
       "    <tr>\n",
       "      <th>2023-02-21</th>\n",
       "      <td>0.030952</td>\n",
       "      <td>0.165206</td>\n",
       "      <td>0.070449</td>\n",
       "      <td>-0.027229</td>\n",
       "      <td>0.332248</td>\n",
       "      <td>0.364223</td>\n",
       "      <td>0.280482</td>\n",
       "      <td>-0.090576</td>\n",
       "      <td>0.150022</td>\n",
       "      <td>0.210936</td>\n",
       "      <td>...</td>\n",
       "      <td>-0.367232</td>\n",
       "      <td>0.038353</td>\n",
       "      <td>0.114744</td>\n",
       "      <td>0.001471</td>\n",
       "      <td>0.016529</td>\n",
       "      <td>0.779156</td>\n",
       "      <td>0.035029</td>\n",
       "      <td>0.117520</td>\n",
       "      <td>0.126316</td>\n",
       "      <td>0.055198</td>\n",
       "    </tr>\n",
       "    <tr>\n",
       "      <th>2023-02-22</th>\n",
       "      <td>0.035238</td>\n",
       "      <td>0.175372</td>\n",
       "      <td>0.073549</td>\n",
       "      <td>-0.014721</td>\n",
       "      <td>0.346906</td>\n",
       "      <td>0.359633</td>\n",
       "      <td>0.262872</td>\n",
       "      <td>-0.087668</td>\n",
       "      <td>0.145899</td>\n",
       "      <td>0.199939</td>\n",
       "      <td>...</td>\n",
       "      <td>-0.365348</td>\n",
       "      <td>0.035533</td>\n",
       "      <td>0.109626</td>\n",
       "      <td>0.019180</td>\n",
       "      <td>0.012446</td>\n",
       "      <td>0.769231</td>\n",
       "      <td>0.044524</td>\n",
       "      <td>0.112360</td>\n",
       "      <td>0.126569</td>\n",
       "      <td>0.053744</td>\n",
       "    </tr>\n",
       "    <tr>\n",
       "      <th>2023-02-23</th>\n",
       "      <td>0.035238</td>\n",
       "      <td>0.192186</td>\n",
       "      <td>0.077081</td>\n",
       "      <td>-0.001659</td>\n",
       "      <td>0.325733</td>\n",
       "      <td>0.350739</td>\n",
       "      <td>0.261614</td>\n",
       "      <td>-0.088504</td>\n",
       "      <td>0.153792</td>\n",
       "      <td>0.197342</td>\n",
       "      <td>...</td>\n",
       "      <td>-0.370998</td>\n",
       "      <td>0.027298</td>\n",
       "      <td>0.124009</td>\n",
       "      <td>0.025320</td>\n",
       "      <td>0.012944</td>\n",
       "      <td>0.778743</td>\n",
       "      <td>0.050531</td>\n",
       "      <td>0.109791</td>\n",
       "      <td>0.128191</td>\n",
       "      <td>0.059349</td>\n",
       "    </tr>\n",
       "    <tr>\n",
       "      <th>2023-02-24</th>\n",
       "      <td>0.053809</td>\n",
       "      <td>0.181629</td>\n",
       "      <td>0.057688</td>\n",
       "      <td>-0.004994</td>\n",
       "      <td>0.309446</td>\n",
       "      <td>0.276718</td>\n",
       "      <td>0.267903</td>\n",
       "      <td>-0.091350</td>\n",
       "      <td>0.150964</td>\n",
       "      <td>0.165114</td>\n",
       "      <td>...</td>\n",
       "      <td>-0.390772</td>\n",
       "      <td>0.007896</td>\n",
       "      <td>0.099523</td>\n",
       "      <td>-0.001015</td>\n",
       "      <td>-0.001294</td>\n",
       "      <td>0.761683</td>\n",
       "      <td>0.031591</td>\n",
       "      <td>0.098151</td>\n",
       "      <td>0.112390</td>\n",
       "      <td>0.048033</td>\n",
       "    </tr>\n",
       "    <tr>\n",
       "      <th>2023-02-27</th>\n",
       "      <td>0.047619</td>\n",
       "      <td>0.157777</td>\n",
       "      <td>0.066411</td>\n",
       "      <td>-0.013332</td>\n",
       "      <td>0.265472</td>\n",
       "      <td>0.280304</td>\n",
       "      <td>0.279224</td>\n",
       "      <td>-0.083214</td>\n",
       "      <td>0.139184</td>\n",
       "      <td>0.187261</td>\n",
       "      <td>...</td>\n",
       "      <td>-0.385122</td>\n",
       "      <td>0.016356</td>\n",
       "      <td>0.103670</td>\n",
       "      <td>0.053532</td>\n",
       "      <td>0.000199</td>\n",
       "      <td>0.752895</td>\n",
       "      <td>0.058310</td>\n",
       "      <td>0.097549</td>\n",
       "      <td>0.114591</td>\n",
       "      <td>0.051603</td>\n",
       "    </tr>\n",
       "  </tbody>\n",
       "</table>\n",
       "<p>76 rows × 21 columns</p>\n",
       "</div>"
      ],
      "text/plain": [
       "                 RFP      ALLY      AAPL       SYF      MTBC      BABA  \\\n",
       "Date                                                                     \n",
       "2022-11-07  0.000000  0.000000  0.000000  0.000000  0.000000  0.000000   \n",
       "2022-11-08  0.000000 -0.000775  0.004175 -0.003039  0.052117 -0.022665   \n",
       "2022-11-09 -0.001429 -0.037955 -0.029153 -0.032873 -0.009772 -0.069861   \n",
       "2022-11-10  0.000952  0.110767  0.057227  0.069890  0.022801  0.000861   \n",
       "2022-11-11  0.005238  0.142525  0.077599  0.111326  0.048860  0.015206   \n",
       "...              ...       ...       ...       ...       ...       ...   \n",
       "2023-02-21  0.030952  0.165206  0.070449 -0.027229  0.332248  0.364223   \n",
       "2023-02-22  0.035238  0.175372  0.073549 -0.014721  0.346906  0.359633   \n",
       "2023-02-23  0.035238  0.192186  0.077081 -0.001659  0.325733  0.350739   \n",
       "2023-02-24  0.053809  0.181629  0.057688 -0.004994  0.309446  0.276718   \n",
       "2023-02-27  0.047619  0.157777  0.066411 -0.013332  0.265472  0.280304   \n",
       "\n",
       "                 AGI        CI        MS        ON  ...      VNDA      GOOG  \\\n",
       "Date                                                ...                       \n",
       "2022-11-07  0.000000  0.000000  0.000000  0.000000  ...  0.000000  0.000000   \n",
       "2022-11-08  0.058971  0.010389 -0.003389  0.024744  ... -0.018832  0.002933   \n",
       "2022-11-09  0.040151  0.001911 -0.024775 -0.025050  ... -0.018832 -0.014100   \n",
       "2022-11-10  0.114178 -0.003175  0.037747  0.111807  ...  0.018832  0.062267   \n",
       "2022-11-11  0.114178 -0.063354  0.060886  0.146327  ...  0.007533  0.091145   \n",
       "...              ...       ...       ...       ...  ...       ...       ...   \n",
       "2023-02-21  0.280482 -0.090576  0.150022  0.210936  ... -0.367232  0.038353   \n",
       "2023-02-22  0.262872 -0.087668  0.145899  0.199939  ... -0.365348  0.035533   \n",
       "2023-02-23  0.261614 -0.088504  0.153792  0.197342  ... -0.370998  0.027298   \n",
       "2023-02-24  0.267903 -0.091350  0.150964  0.165114  ... -0.390772  0.007896   \n",
       "2023-02-27  0.279224 -0.083214  0.139184  0.187261  ... -0.385122  0.016356   \n",
       "\n",
       "                MSFT      TSLA       DIS      META  max_sharp   min_vol  \\\n",
       "Date                                                                      \n",
       "2022-11-07  0.000000  0.000000  0.000000  0.000000   0.000000  0.000000   \n",
       "2022-11-08  0.004388 -0.029328 -0.005277 -0.002585  -0.011918  0.009108   \n",
       "2022-11-09 -0.014745 -0.098894 -0.136214  0.049111  -0.057544 -0.035702   \n",
       "2022-11-10  0.066310 -0.032271 -0.099273  0.156638   0.013334  0.010795   \n",
       "2022-11-11  0.084434 -0.005632 -0.053968  0.168528   0.036448  0.024248   \n",
       "...              ...       ...       ...       ...        ...       ...   \n",
       "2023-02-21  0.114744  0.001471  0.016529  0.779156   0.035029  0.117520   \n",
       "2023-02-22  0.109626  0.019180  0.012446  0.769231   0.044524  0.112360   \n",
       "2023-02-23  0.124009  0.025320  0.012944  0.778743   0.050531  0.109791   \n",
       "2023-02-24  0.099523 -0.001015 -0.001294  0.761683   0.031591  0.098151   \n",
       "2023-02-27  0.103670  0.053532  0.000199  0.752895   0.058310  0.097549   \n",
       "\n",
       "              eq_wei       SPY  \n",
       "Date                            \n",
       "2022-11-07  0.000000  0.000000  \n",
       "2022-11-08  0.002220  0.005395  \n",
       "2022-11-09 -0.029536 -0.015318  \n",
       "2022-11-10  0.039150  0.038795  \n",
       "2022-11-11  0.057102  0.048849  \n",
       "...              ...       ...  \n",
       "2023-02-21  0.126316  0.055198  \n",
       "2023-02-22  0.126569  0.053744  \n",
       "2023-02-23  0.128191  0.059349  \n",
       "2023-02-24  0.112390  0.048033  \n",
       "2023-02-27  0.114591  0.051603  \n",
       "\n",
       "[76 rows x 21 columns]"
      ]
     },
     "execution_count": 23,
     "metadata": {},
     "output_type": "execute_result"
    }
   ],
   "source": [
    "ret_df"
   ]
  },
  {
   "cell_type": "code",
   "execution_count": 24,
   "id": "6badb564",
   "metadata": {},
   "outputs": [
    {
     "name": "stdout",
     "output_type": "stream",
     "text": [
      "Loading library list...\n",
      "Done\n"
     ]
    }
   ],
   "source": [
    "# query data from crsp -\n",
    "import wrds\n",
    "from build_query import build_query\n",
    "from abr_regression import abrReg \n",
    "\n",
    "db = wrds.Connection(wrds_username='lshawusf')\n",
    "start_date = '2022-11-05'\n",
    "end_date = '2022-12-31'\n",
    "abr = abrReg(db, start_date, end_date)"
   ]
  },
  {
   "cell_type": "code",
   "execution_count": 25,
   "id": "309ab958",
   "metadata": {},
   "outputs": [],
   "source": [
    "df_input = ret_df.reset_index()[['Date','eq_wei','max_sharp','min_vol']].rename(columns={'Date':'date'})"
   ]
  },
  {
   "cell_type": "code",
   "execution_count": 26,
   "id": "4fea7fe1",
   "metadata": {},
   "outputs": [
    {
     "name": "stdout",
     "output_type": "stream",
     "text": [
      "select date,mktrf,smb,hml,rf from ff.fivefactors_daily where date between '2022-11-05' and '2022-12-31'\n"
     ]
    }
   ],
   "source": [
    "ff3_df = abr.ff3f(df_input, ['eq_wei','max_sharp','min_vol'])"
   ]
  },
  {
   "cell_type": "code",
   "execution_count": 30,
   "id": "5fa8bab7",
   "metadata": {},
   "outputs": [],
   "source": [
    "# get the rows where rf is NaN\n",
    "ff3_df = ff3_df[ff3_df['rf'].notna()]"
   ]
  },
  {
   "cell_type": "code",
   "execution_count": 31,
   "id": "d1f3c0f0",
   "metadata": {},
   "outputs": [
    {
     "data": {
      "text/html": [
       "<div>\n",
       "<style scoped>\n",
       "    .dataframe tbody tr th:only-of-type {\n",
       "        vertical-align: middle;\n",
       "    }\n",
       "\n",
       "    .dataframe tbody tr th {\n",
       "        vertical-align: top;\n",
       "    }\n",
       "\n",
       "    .dataframe thead th {\n",
       "        text-align: right;\n",
       "    }\n",
       "</style>\n",
       "<table border=\"1\" class=\"dataframe\">\n",
       "  <thead>\n",
       "    <tr style=\"text-align: right;\">\n",
       "      <th></th>\n",
       "      <th>date</th>\n",
       "      <th>eq_wei</th>\n",
       "      <th>max_sharp</th>\n",
       "      <th>min_vol</th>\n",
       "      <th>mktrf</th>\n",
       "      <th>smb</th>\n",
       "      <th>hml</th>\n",
       "      <th>rf</th>\n",
       "      <th>eq_wei_rf</th>\n",
       "      <th>max_sharp_rf</th>\n",
       "      <th>min_vol_rf</th>\n",
       "    </tr>\n",
       "  </thead>\n",
       "  <tbody>\n",
       "    <tr>\n",
       "      <th>0</th>\n",
       "      <td>2022-11-07</td>\n",
       "      <td>0.000000</td>\n",
       "      <td>0.000000</td>\n",
       "      <td>0.000000</td>\n",
       "      <td>0.0087</td>\n",
       "      <td>-0.0034</td>\n",
       "      <td>0.0061</td>\n",
       "      <td>0.00014</td>\n",
       "      <td>-0.000140</td>\n",
       "      <td>-0.000140</td>\n",
       "      <td>-0.000140</td>\n",
       "    </tr>\n",
       "    <tr>\n",
       "      <th>1</th>\n",
       "      <td>2022-11-08</td>\n",
       "      <td>0.002220</td>\n",
       "      <td>-0.011918</td>\n",
       "      <td>0.009108</td>\n",
       "      <td>0.0050</td>\n",
       "      <td>-0.0055</td>\n",
       "      <td>-0.0038</td>\n",
       "      <td>0.00014</td>\n",
       "      <td>0.002080</td>\n",
       "      <td>-0.012058</td>\n",
       "      <td>0.008968</td>\n",
       "    </tr>\n",
       "    <tr>\n",
       "      <th>2</th>\n",
       "      <td>2022-11-09</td>\n",
       "      <td>-0.029536</td>\n",
       "      <td>-0.057544</td>\n",
       "      <td>-0.035702</td>\n",
       "      <td>-0.0225</td>\n",
       "      <td>-0.0050</td>\n",
       "      <td>0.0055</td>\n",
       "      <td>0.00014</td>\n",
       "      <td>-0.029676</td>\n",
       "      <td>-0.057684</td>\n",
       "      <td>-0.035842</td>\n",
       "    </tr>\n",
       "    <tr>\n",
       "      <th>3</th>\n",
       "      <td>2022-11-10</td>\n",
       "      <td>0.039150</td>\n",
       "      <td>0.013334</td>\n",
       "      <td>0.010795</td>\n",
       "      <td>0.0568</td>\n",
       "      <td>0.0105</td>\n",
       "      <td>-0.0311</td>\n",
       "      <td>0.00014</td>\n",
       "      <td>0.039010</td>\n",
       "      <td>0.013194</td>\n",
       "      <td>0.010655</td>\n",
       "    </tr>\n",
       "    <tr>\n",
       "      <th>4</th>\n",
       "      <td>2022-11-11</td>\n",
       "      <td>0.057102</td>\n",
       "      <td>0.036448</td>\n",
       "      <td>0.024248</td>\n",
       "      <td>0.0107</td>\n",
       "      <td>0.0016</td>\n",
       "      <td>-0.0108</td>\n",
       "      <td>0.00014</td>\n",
       "      <td>0.056962</td>\n",
       "      <td>0.036308</td>\n",
       "      <td>0.024108</td>\n",
       "    </tr>\n",
       "    <tr>\n",
       "      <th>5</th>\n",
       "      <td>2022-11-14</td>\n",
       "      <td>0.041225</td>\n",
       "      <td>0.015242</td>\n",
       "      <td>0.020896</td>\n",
       "      <td>-0.0095</td>\n",
       "      <td>-0.0026</td>\n",
       "      <td>0.0026</td>\n",
       "      <td>0.00014</td>\n",
       "      <td>0.041085</td>\n",
       "      <td>0.015102</td>\n",
       "      <td>0.020756</td>\n",
       "    </tr>\n",
       "    <tr>\n",
       "      <th>6</th>\n",
       "      <td>2022-11-15</td>\n",
       "      <td>0.053802</td>\n",
       "      <td>0.024421</td>\n",
       "      <td>0.038550</td>\n",
       "      <td>0.0103</td>\n",
       "      <td>0.0047</td>\n",
       "      <td>-0.0070</td>\n",
       "      <td>0.00014</td>\n",
       "      <td>0.053662</td>\n",
       "      <td>0.024281</td>\n",
       "      <td>0.038410</td>\n",
       "    </tr>\n",
       "    <tr>\n",
       "      <th>7</th>\n",
       "      <td>2022-11-16</td>\n",
       "      <td>0.037104</td>\n",
       "      <td>0.003089</td>\n",
       "      <td>0.029483</td>\n",
       "      <td>-0.0103</td>\n",
       "      <td>-0.0106</td>\n",
       "      <td>0.0057</td>\n",
       "      <td>0.00014</td>\n",
       "      <td>0.036964</td>\n",
       "      <td>0.002949</td>\n",
       "      <td>0.029343</td>\n",
       "    </tr>\n",
       "    <tr>\n",
       "      <th>8</th>\n",
       "      <td>2022-11-17</td>\n",
       "      <td>0.037059</td>\n",
       "      <td>-0.000621</td>\n",
       "      <td>0.029250</td>\n",
       "      <td>-0.0042</td>\n",
       "      <td>-0.0029</td>\n",
       "      <td>0.0059</td>\n",
       "      <td>0.00014</td>\n",
       "      <td>0.036919</td>\n",
       "      <td>-0.000761</td>\n",
       "      <td>0.029110</td>\n",
       "    </tr>\n",
       "    <tr>\n",
       "      <th>9</th>\n",
       "      <td>2022-11-18</td>\n",
       "      <td>0.037947</td>\n",
       "      <td>-0.005329</td>\n",
       "      <td>0.032369</td>\n",
       "      <td>0.0040</td>\n",
       "      <td>-0.0009</td>\n",
       "      <td>0.0007</td>\n",
       "      <td>0.00014</td>\n",
       "      <td>0.037807</td>\n",
       "      <td>-0.005469</td>\n",
       "      <td>0.032229</td>\n",
       "    </tr>\n",
       "    <tr>\n",
       "      <th>10</th>\n",
       "      <td>2022-11-21</td>\n",
       "      <td>0.027136</td>\n",
       "      <td>-0.040383</td>\n",
       "      <td>0.034206</td>\n",
       "      <td>-0.0053</td>\n",
       "      <td>-0.0020</td>\n",
       "      <td>0.0099</td>\n",
       "      <td>0.00014</td>\n",
       "      <td>0.026996</td>\n",
       "      <td>-0.040523</td>\n",
       "      <td>0.034066</td>\n",
       "    </tr>\n",
       "    <tr>\n",
       "      <th>11</th>\n",
       "      <td>2022-11-22</td>\n",
       "      <td>0.037305</td>\n",
       "      <td>-0.029121</td>\n",
       "      <td>0.042086</td>\n",
       "      <td>0.0135</td>\n",
       "      <td>-0.0038</td>\n",
       "      <td>0.0045</td>\n",
       "      <td>0.00014</td>\n",
       "      <td>0.037165</td>\n",
       "      <td>-0.029261</td>\n",
       "      <td>0.041946</td>\n",
       "    </tr>\n",
       "    <tr>\n",
       "      <th>12</th>\n",
       "      <td>2022-11-23</td>\n",
       "      <td>0.055015</td>\n",
       "      <td>0.005122</td>\n",
       "      <td>0.064977</td>\n",
       "      <td>0.0063</td>\n",
       "      <td>-0.0025</td>\n",
       "      <td>-0.0094</td>\n",
       "      <td>0.00014</td>\n",
       "      <td>0.054875</td>\n",
       "      <td>0.004982</td>\n",
       "      <td>0.064837</td>\n",
       "    </tr>\n",
       "    <tr>\n",
       "      <th>13</th>\n",
       "      <td>2022-11-25</td>\n",
       "      <td>0.051390</td>\n",
       "      <td>-0.001805</td>\n",
       "      <td>0.060910</td>\n",
       "      <td>-0.0002</td>\n",
       "      <td>0.0027</td>\n",
       "      <td>0.0044</td>\n",
       "      <td>0.00014</td>\n",
       "      <td>0.051250</td>\n",
       "      <td>-0.001945</td>\n",
       "      <td>0.060770</td>\n",
       "    </tr>\n",
       "    <tr>\n",
       "      <th>14</th>\n",
       "      <td>2022-11-28</td>\n",
       "      <td>0.032115</td>\n",
       "      <td>-0.013736</td>\n",
       "      <td>0.039914</td>\n",
       "      <td>-0.0155</td>\n",
       "      <td>-0.0047</td>\n",
       "      <td>-0.0020</td>\n",
       "      <td>0.00014</td>\n",
       "      <td>0.031975</td>\n",
       "      <td>-0.013876</td>\n",
       "      <td>0.039774</td>\n",
       "    </tr>\n",
       "    <tr>\n",
       "      <th>15</th>\n",
       "      <td>2022-11-29</td>\n",
       "      <td>0.039510</td>\n",
       "      <td>-0.024345</td>\n",
       "      <td>0.049391</td>\n",
       "      <td>-0.0018</td>\n",
       "      <td>0.0035</td>\n",
       "      <td>0.0103</td>\n",
       "      <td>0.00014</td>\n",
       "      <td>0.039370</td>\n",
       "      <td>-0.024485</td>\n",
       "      <td>0.049251</td>\n",
       "    </tr>\n",
       "    <tr>\n",
       "      <th>16</th>\n",
       "      <td>2022-11-30</td>\n",
       "      <td>0.084849</td>\n",
       "      <td>0.029231</td>\n",
       "      <td>0.087714</td>\n",
       "      <td>0.0312</td>\n",
       "      <td>-0.0014</td>\n",
       "      <td>-0.0207</td>\n",
       "      <td>0.00014</td>\n",
       "      <td>0.084709</td>\n",
       "      <td>0.029091</td>\n",
       "      <td>0.087574</td>\n",
       "    </tr>\n",
       "    <tr>\n",
       "      <th>17</th>\n",
       "      <td>2022-12-01</td>\n",
       "      <td>0.080438</td>\n",
       "      <td>0.026918</td>\n",
       "      <td>0.089392</td>\n",
       "      <td>-0.0002</td>\n",
       "      <td>0.0004</td>\n",
       "      <td>-0.0069</td>\n",
       "      <td>0.00016</td>\n",
       "      <td>0.080278</td>\n",
       "      <td>0.026758</td>\n",
       "      <td>0.089232</td>\n",
       "    </tr>\n",
       "    <tr>\n",
       "      <th>18</th>\n",
       "      <td>2022-12-02</td>\n",
       "      <td>0.087569</td>\n",
       "      <td>0.025220</td>\n",
       "      <td>0.101329</td>\n",
       "      <td>-0.0008</td>\n",
       "      <td>0.0083</td>\n",
       "      <td>-0.0055</td>\n",
       "      <td>0.00016</td>\n",
       "      <td>0.087409</td>\n",
       "      <td>0.025060</td>\n",
       "      <td>0.101169</td>\n",
       "    </tr>\n",
       "    <tr>\n",
       "      <th>19</th>\n",
       "      <td>2022-12-05</td>\n",
       "      <td>0.064552</td>\n",
       "      <td>-0.009862</td>\n",
       "      <td>0.082973</td>\n",
       "      <td>-0.0202</td>\n",
       "      <td>-0.0054</td>\n",
       "      <td>-0.0051</td>\n",
       "      <td>0.00016</td>\n",
       "      <td>0.064392</td>\n",
       "      <td>-0.010022</td>\n",
       "      <td>0.082813</td>\n",
       "    </tr>\n",
       "    <tr>\n",
       "      <th>20</th>\n",
       "      <td>2022-12-06</td>\n",
       "      <td>0.052004</td>\n",
       "      <td>-0.025722</td>\n",
       "      <td>0.071495</td>\n",
       "      <td>-0.0151</td>\n",
       "      <td>-0.0002</td>\n",
       "      <td>0.0116</td>\n",
       "      <td>0.00016</td>\n",
       "      <td>0.051844</td>\n",
       "      <td>-0.025882</td>\n",
       "      <td>0.071335</td>\n",
       "    </tr>\n",
       "    <tr>\n",
       "      <th>21</th>\n",
       "      <td>2022-12-07</td>\n",
       "      <td>0.045981</td>\n",
       "      <td>-0.043135</td>\n",
       "      <td>0.072003</td>\n",
       "      <td>-0.0024</td>\n",
       "      <td>-0.0017</td>\n",
       "      <td>-0.0033</td>\n",
       "      <td>0.00016</td>\n",
       "      <td>0.045821</td>\n",
       "      <td>-0.043295</td>\n",
       "      <td>0.071843</td>\n",
       "    </tr>\n",
       "    <tr>\n",
       "      <th>22</th>\n",
       "      <td>2022-12-08</td>\n",
       "      <td>0.057384</td>\n",
       "      <td>-0.038588</td>\n",
       "      <td>0.084597</td>\n",
       "      <td>0.0077</td>\n",
       "      <td>-0.0009</td>\n",
       "      <td>-0.0121</td>\n",
       "      <td>0.00016</td>\n",
       "      <td>0.057224</td>\n",
       "      <td>-0.038748</td>\n",
       "      <td>0.084437</td>\n",
       "    </tr>\n",
       "    <tr>\n",
       "      <th>23</th>\n",
       "      <td>2022-12-09</td>\n",
       "      <td>0.052526</td>\n",
       "      <td>-0.027778</td>\n",
       "      <td>0.078218</td>\n",
       "      <td>-0.0080</td>\n",
       "      <td>-0.0052</td>\n",
       "      <td>0.0035</td>\n",
       "      <td>0.00016</td>\n",
       "      <td>0.052366</td>\n",
       "      <td>-0.027938</td>\n",
       "      <td>0.078058</td>\n",
       "    </tr>\n",
       "    <tr>\n",
       "      <th>24</th>\n",
       "      <td>2022-12-12</td>\n",
       "      <td>0.058432</td>\n",
       "      <td>-0.044837</td>\n",
       "      <td>0.087578</td>\n",
       "      <td>0.0141</td>\n",
       "      <td>-0.0027</td>\n",
       "      <td>-0.0015</td>\n",
       "      <td>0.00016</td>\n",
       "      <td>0.058272</td>\n",
       "      <td>-0.044997</td>\n",
       "      <td>0.087418</td>\n",
       "    </tr>\n",
       "    <tr>\n",
       "      <th>25</th>\n",
       "      <td>2022-12-13</td>\n",
       "      <td>0.047031</td>\n",
       "      <td>-0.056813</td>\n",
       "      <td>0.092902</td>\n",
       "      <td>0.0066</td>\n",
       "      <td>0.0008</td>\n",
       "      <td>-0.0074</td>\n",
       "      <td>0.00016</td>\n",
       "      <td>0.046871</td>\n",
       "      <td>-0.056973</td>\n",
       "      <td>0.092742</td>\n",
       "    </tr>\n",
       "    <tr>\n",
       "      <th>26</th>\n",
       "      <td>2022-12-14</td>\n",
       "      <td>0.036845</td>\n",
       "      <td>-0.072874</td>\n",
       "      <td>0.089128</td>\n",
       "      <td>-0.0056</td>\n",
       "      <td>0.0004</td>\n",
       "      <td>-0.0043</td>\n",
       "      <td>0.00016</td>\n",
       "      <td>0.036685</td>\n",
       "      <td>-0.073034</td>\n",
       "      <td>0.088968</td>\n",
       "    </tr>\n",
       "    <tr>\n",
       "      <th>27</th>\n",
       "      <td>2022-12-15</td>\n",
       "      <td>0.009704</td>\n",
       "      <td>-0.090336</td>\n",
       "      <td>0.060171</td>\n",
       "      <td>-0.0257</td>\n",
       "      <td>-0.0011</td>\n",
       "      <td>0.0138</td>\n",
       "      <td>0.00016</td>\n",
       "      <td>0.009544</td>\n",
       "      <td>-0.090496</td>\n",
       "      <td>0.060011</td>\n",
       "    </tr>\n",
       "    <tr>\n",
       "      <th>28</th>\n",
       "      <td>2022-12-16</td>\n",
       "      <td>0.001609</td>\n",
       "      <td>-0.114239</td>\n",
       "      <td>0.053286</td>\n",
       "      <td>-0.0102</td>\n",
       "      <td>0.0053</td>\n",
       "      <td>0.0019</td>\n",
       "      <td>0.00016</td>\n",
       "      <td>0.001449</td>\n",
       "      <td>-0.114399</td>\n",
       "      <td>0.053126</td>\n",
       "    </tr>\n",
       "    <tr>\n",
       "      <th>29</th>\n",
       "      <td>2022-12-19</td>\n",
       "      <td>-0.014460</td>\n",
       "      <td>-0.123090</td>\n",
       "      <td>0.036524</td>\n",
       "      <td>-0.0101</td>\n",
       "      <td>-0.0060</td>\n",
       "      <td>0.0123</td>\n",
       "      <td>0.00016</td>\n",
       "      <td>-0.014620</td>\n",
       "      <td>-0.123250</td>\n",
       "      <td>0.036364</td>\n",
       "    </tr>\n",
       "    <tr>\n",
       "      <th>30</th>\n",
       "      <td>2022-12-20</td>\n",
       "      <td>-0.017012</td>\n",
       "      <td>-0.150071</td>\n",
       "      <td>0.042128</td>\n",
       "      <td>0.0013</td>\n",
       "      <td>0.0024</td>\n",
       "      <td>0.0025</td>\n",
       "      <td>0.00016</td>\n",
       "      <td>-0.017172</td>\n",
       "      <td>-0.150231</td>\n",
       "      <td>0.041968</td>\n",
       "    </tr>\n",
       "    <tr>\n",
       "      <th>31</th>\n",
       "      <td>2022-12-21</td>\n",
       "      <td>-0.006994</td>\n",
       "      <td>-0.141805</td>\n",
       "      <td>0.050531</td>\n",
       "      <td>0.0152</td>\n",
       "      <td>0.0014</td>\n",
       "      <td>-0.0014</td>\n",
       "      <td>0.00016</td>\n",
       "      <td>-0.007154</td>\n",
       "      <td>-0.141965</td>\n",
       "      <td>0.050371</td>\n",
       "    </tr>\n",
       "    <tr>\n",
       "      <th>32</th>\n",
       "      <td>2022-12-22</td>\n",
       "      <td>-0.026332</td>\n",
       "      <td>-0.181742</td>\n",
       "      <td>0.043284</td>\n",
       "      <td>-0.0152</td>\n",
       "      <td>0.0022</td>\n",
       "      <td>0.0037</td>\n",
       "      <td>0.00016</td>\n",
       "      <td>-0.026492</td>\n",
       "      <td>-0.181902</td>\n",
       "      <td>0.043124</td>\n",
       "    </tr>\n",
       "    <tr>\n",
       "      <th>33</th>\n",
       "      <td>2022-12-23</td>\n",
       "      <td>-0.029212</td>\n",
       "      <td>-0.186564</td>\n",
       "      <td>0.042074</td>\n",
       "      <td>0.0051</td>\n",
       "      <td>-0.0034</td>\n",
       "      <td>0.0115</td>\n",
       "      <td>0.00016</td>\n",
       "      <td>-0.029372</td>\n",
       "      <td>-0.186724</td>\n",
       "      <td>0.041914</td>\n",
       "    </tr>\n",
       "    <tr>\n",
       "      <th>34</th>\n",
       "      <td>2022-12-27</td>\n",
       "      <td>-0.036050</td>\n",
       "      <td>-0.224066</td>\n",
       "      <td>0.046730</td>\n",
       "      <td>-0.0051</td>\n",
       "      <td>-0.0042</td>\n",
       "      <td>0.0142</td>\n",
       "      <td>0.00016</td>\n",
       "      <td>-0.036210</td>\n",
       "      <td>-0.224226</td>\n",
       "      <td>0.046570</td>\n",
       "    </tr>\n",
       "    <tr>\n",
       "      <th>35</th>\n",
       "      <td>2022-12-28</td>\n",
       "      <td>-0.044847</td>\n",
       "      <td>-0.222303</td>\n",
       "      <td>0.029555</td>\n",
       "      <td>-0.0123</td>\n",
       "      <td>-0.0030</td>\n",
       "      <td>-0.0029</td>\n",
       "      <td>0.00016</td>\n",
       "      <td>-0.045007</td>\n",
       "      <td>-0.222463</td>\n",
       "      <td>0.029395</td>\n",
       "    </tr>\n",
       "    <tr>\n",
       "      <th>36</th>\n",
       "      <td>2022-12-29</td>\n",
       "      <td>-0.021101</td>\n",
       "      <td>-0.190612</td>\n",
       "      <td>0.045412</td>\n",
       "      <td>0.0187</td>\n",
       "      <td>0.0104</td>\n",
       "      <td>-0.0107</td>\n",
       "      <td>0.00016</td>\n",
       "      <td>-0.021261</td>\n",
       "      <td>-0.190772</td>\n",
       "      <td>0.045252</td>\n",
       "    </tr>\n",
       "    <tr>\n",
       "      <th>37</th>\n",
       "      <td>2022-12-30</td>\n",
       "      <td>-0.020645</td>\n",
       "      <td>-0.187172</td>\n",
       "      <td>0.046145</td>\n",
       "      <td>-0.0022</td>\n",
       "      <td>0.0012</td>\n",
       "      <td>-0.0003</td>\n",
       "      <td>0.00016</td>\n",
       "      <td>-0.020805</td>\n",
       "      <td>-0.187332</td>\n",
       "      <td>0.045985</td>\n",
       "    </tr>\n",
       "  </tbody>\n",
       "</table>\n",
       "</div>"
      ],
      "text/plain": [
       "         date    eq_wei  max_sharp   min_vol   mktrf     smb     hml       rf  \\\n",
       "0  2022-11-07  0.000000   0.000000  0.000000  0.0087 -0.0034  0.0061  0.00014   \n",
       "1  2022-11-08  0.002220  -0.011918  0.009108  0.0050 -0.0055 -0.0038  0.00014   \n",
       "2  2022-11-09 -0.029536  -0.057544 -0.035702 -0.0225 -0.0050  0.0055  0.00014   \n",
       "3  2022-11-10  0.039150   0.013334  0.010795  0.0568  0.0105 -0.0311  0.00014   \n",
       "4  2022-11-11  0.057102   0.036448  0.024248  0.0107  0.0016 -0.0108  0.00014   \n",
       "5  2022-11-14  0.041225   0.015242  0.020896 -0.0095 -0.0026  0.0026  0.00014   \n",
       "6  2022-11-15  0.053802   0.024421  0.038550  0.0103  0.0047 -0.0070  0.00014   \n",
       "7  2022-11-16  0.037104   0.003089  0.029483 -0.0103 -0.0106  0.0057  0.00014   \n",
       "8  2022-11-17  0.037059  -0.000621  0.029250 -0.0042 -0.0029  0.0059  0.00014   \n",
       "9  2022-11-18  0.037947  -0.005329  0.032369  0.0040 -0.0009  0.0007  0.00014   \n",
       "10 2022-11-21  0.027136  -0.040383  0.034206 -0.0053 -0.0020  0.0099  0.00014   \n",
       "11 2022-11-22  0.037305  -0.029121  0.042086  0.0135 -0.0038  0.0045  0.00014   \n",
       "12 2022-11-23  0.055015   0.005122  0.064977  0.0063 -0.0025 -0.0094  0.00014   \n",
       "13 2022-11-25  0.051390  -0.001805  0.060910 -0.0002  0.0027  0.0044  0.00014   \n",
       "14 2022-11-28  0.032115  -0.013736  0.039914 -0.0155 -0.0047 -0.0020  0.00014   \n",
       "15 2022-11-29  0.039510  -0.024345  0.049391 -0.0018  0.0035  0.0103  0.00014   \n",
       "16 2022-11-30  0.084849   0.029231  0.087714  0.0312 -0.0014 -0.0207  0.00014   \n",
       "17 2022-12-01  0.080438   0.026918  0.089392 -0.0002  0.0004 -0.0069  0.00016   \n",
       "18 2022-12-02  0.087569   0.025220  0.101329 -0.0008  0.0083 -0.0055  0.00016   \n",
       "19 2022-12-05  0.064552  -0.009862  0.082973 -0.0202 -0.0054 -0.0051  0.00016   \n",
       "20 2022-12-06  0.052004  -0.025722  0.071495 -0.0151 -0.0002  0.0116  0.00016   \n",
       "21 2022-12-07  0.045981  -0.043135  0.072003 -0.0024 -0.0017 -0.0033  0.00016   \n",
       "22 2022-12-08  0.057384  -0.038588  0.084597  0.0077 -0.0009 -0.0121  0.00016   \n",
       "23 2022-12-09  0.052526  -0.027778  0.078218 -0.0080 -0.0052  0.0035  0.00016   \n",
       "24 2022-12-12  0.058432  -0.044837  0.087578  0.0141 -0.0027 -0.0015  0.00016   \n",
       "25 2022-12-13  0.047031  -0.056813  0.092902  0.0066  0.0008 -0.0074  0.00016   \n",
       "26 2022-12-14  0.036845  -0.072874  0.089128 -0.0056  0.0004 -0.0043  0.00016   \n",
       "27 2022-12-15  0.009704  -0.090336  0.060171 -0.0257 -0.0011  0.0138  0.00016   \n",
       "28 2022-12-16  0.001609  -0.114239  0.053286 -0.0102  0.0053  0.0019  0.00016   \n",
       "29 2022-12-19 -0.014460  -0.123090  0.036524 -0.0101 -0.0060  0.0123  0.00016   \n",
       "30 2022-12-20 -0.017012  -0.150071  0.042128  0.0013  0.0024  0.0025  0.00016   \n",
       "31 2022-12-21 -0.006994  -0.141805  0.050531  0.0152  0.0014 -0.0014  0.00016   \n",
       "32 2022-12-22 -0.026332  -0.181742  0.043284 -0.0152  0.0022  0.0037  0.00016   \n",
       "33 2022-12-23 -0.029212  -0.186564  0.042074  0.0051 -0.0034  0.0115  0.00016   \n",
       "34 2022-12-27 -0.036050  -0.224066  0.046730 -0.0051 -0.0042  0.0142  0.00016   \n",
       "35 2022-12-28 -0.044847  -0.222303  0.029555 -0.0123 -0.0030 -0.0029  0.00016   \n",
       "36 2022-12-29 -0.021101  -0.190612  0.045412  0.0187  0.0104 -0.0107  0.00016   \n",
       "37 2022-12-30 -0.020645  -0.187172  0.046145 -0.0022  0.0012 -0.0003  0.00016   \n",
       "\n",
       "    eq_wei_rf  max_sharp_rf  min_vol_rf  \n",
       "0   -0.000140     -0.000140   -0.000140  \n",
       "1    0.002080     -0.012058    0.008968  \n",
       "2   -0.029676     -0.057684   -0.035842  \n",
       "3    0.039010      0.013194    0.010655  \n",
       "4    0.056962      0.036308    0.024108  \n",
       "5    0.041085      0.015102    0.020756  \n",
       "6    0.053662      0.024281    0.038410  \n",
       "7    0.036964      0.002949    0.029343  \n",
       "8    0.036919     -0.000761    0.029110  \n",
       "9    0.037807     -0.005469    0.032229  \n",
       "10   0.026996     -0.040523    0.034066  \n",
       "11   0.037165     -0.029261    0.041946  \n",
       "12   0.054875      0.004982    0.064837  \n",
       "13   0.051250     -0.001945    0.060770  \n",
       "14   0.031975     -0.013876    0.039774  \n",
       "15   0.039370     -0.024485    0.049251  \n",
       "16   0.084709      0.029091    0.087574  \n",
       "17   0.080278      0.026758    0.089232  \n",
       "18   0.087409      0.025060    0.101169  \n",
       "19   0.064392     -0.010022    0.082813  \n",
       "20   0.051844     -0.025882    0.071335  \n",
       "21   0.045821     -0.043295    0.071843  \n",
       "22   0.057224     -0.038748    0.084437  \n",
       "23   0.052366     -0.027938    0.078058  \n",
       "24   0.058272     -0.044997    0.087418  \n",
       "25   0.046871     -0.056973    0.092742  \n",
       "26   0.036685     -0.073034    0.088968  \n",
       "27   0.009544     -0.090496    0.060011  \n",
       "28   0.001449     -0.114399    0.053126  \n",
       "29  -0.014620     -0.123250    0.036364  \n",
       "30  -0.017172     -0.150231    0.041968  \n",
       "31  -0.007154     -0.141965    0.050371  \n",
       "32  -0.026492     -0.181902    0.043124  \n",
       "33  -0.029372     -0.186724    0.041914  \n",
       "34  -0.036210     -0.224226    0.046570  \n",
       "35  -0.045007     -0.222463    0.029395  \n",
       "36  -0.021261     -0.190772    0.045252  \n",
       "37  -0.020805     -0.187332    0.045985  "
      ]
     },
     "execution_count": 31,
     "metadata": {},
     "output_type": "execute_result"
    }
   ],
   "source": [
    "ff3_df"
   ]
  },
  {
   "cell_type": "code",
   "execution_count": 48,
   "id": "7011487f",
   "metadata": {},
   "outputs": [],
   "source": [
    "import statsmodels.api as sm\n",
    "\n",
    "ff3_alpha = {}\n",
    "ff3_tv = {}\n",
    "for col in ['eq_wei','max_sharp','min_vol']:\n",
    "    ff3_model = sm.OLS(ff3_df[col], \n",
    "                    sm.add_constant(ff3_df[['mktrf', 'smb', 'hml']])).fit()\n",
    "    ff3_alpha[col] = ff3_model.params[0]\n",
    "    ff3_tv[col] = ff3_model.tvalues[0]\n",
    "ff3_table = pd.DataFrame({'alpha':ff3_alpha, 't-value':ff3_tv}, index=['eq_wei','max_sharp','min_vol'])"
   ]
  },
  {
   "cell_type": "code",
   "execution_count": 49,
   "id": "a241f16a",
   "metadata": {},
   "outputs": [
    {
     "data": {
      "text/html": [
       "<div>\n",
       "<style scoped>\n",
       "    .dataframe tbody tr th:only-of-type {\n",
       "        vertical-align: middle;\n",
       "    }\n",
       "\n",
       "    .dataframe tbody tr th {\n",
       "        vertical-align: top;\n",
       "    }\n",
       "\n",
       "    .dataframe thead th {\n",
       "        text-align: right;\n",
       "    }\n",
       "</style>\n",
       "<table border=\"1\" class=\"dataframe\">\n",
       "  <thead>\n",
       "    <tr style=\"text-align: right;\">\n",
       "      <th></th>\n",
       "      <th>alpha</th>\n",
       "      <th>t-value</th>\n",
       "    </tr>\n",
       "  </thead>\n",
       "  <tbody>\n",
       "    <tr>\n",
       "      <th>eq_wei</th>\n",
       "      <td>0.024488</td>\n",
       "      <td>4.334986</td>\n",
       "    </tr>\n",
       "    <tr>\n",
       "      <th>max_sharp</th>\n",
       "      <td>-0.060589</td>\n",
       "      <td>-4.950487</td>\n",
       "    </tr>\n",
       "    <tr>\n",
       "      <th>min_vol</th>\n",
       "      <td>0.049988</td>\n",
       "      <td>10.309512</td>\n",
       "    </tr>\n",
       "  </tbody>\n",
       "</table>\n",
       "</div>"
      ],
      "text/plain": [
       "              alpha    t-value\n",
       "eq_wei     0.024488   4.334986\n",
       "max_sharp -0.060589  -4.950487\n",
       "min_vol    0.049988  10.309512"
      ]
     },
     "execution_count": 49,
     "metadata": {},
     "output_type": "execute_result"
    }
   ],
   "source": [
    "ff3_table"
   ]
  }
 ],
 "metadata": {
  "kernelspec": {
   "display_name": "Python 3",
   "language": "python",
   "name": "python3"
  },
  "language_info": {
   "codemirror_mode": {
    "name": "ipython",
    "version": 3
   },
   "file_extension": ".py",
   "mimetype": "text/x-python",
   "name": "python",
   "nbconvert_exporter": "python",
   "pygments_lexer": "ipython3",
   "version": "3.9.9"
  },
  "vscode": {
   "interpreter": {
    "hash": "53fa9cbc1119960e32d268058a2ef337c3bb0a143aba35634ced9d18c6ea0cfd"
   }
  }
 },
 "nbformat": 4,
 "nbformat_minor": 5
}
